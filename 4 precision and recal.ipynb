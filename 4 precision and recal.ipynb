{
 "cells": [
  {
   "cell_type": "code",
   "execution_count": 1,
   "metadata": {},
   "outputs": [],
   "source": [
    "import pandas as pd\n",
    "import numpy as np\n",
    "from copy import deepcopy\n",
    "from sklearn.svm import SVC\n",
    "from sklearn.metrics import accuracy_score\n",
    "import gc\n",
    "from sklearn.model_selection import train_test_split\n",
    "from numpy.random import choice\n",
    "import pickle"
   ]
  },
  {
   "cell_type": "code",
   "execution_count": 2,
   "metadata": {},
   "outputs": [],
   "source": [
    "with open('validation.pkl','rb') as fl:\n",
    "    validation = pickle.load(fl)"
   ]
  },
  {
   "cell_type": "code",
   "execution_count": 3,
   "metadata": {},
   "outputs": [],
   "source": [
    "with open('test.pkl','rb') as fl:\n",
    "    test = pickle.load(fl)"
   ]
  },
  {
   "cell_type": "code",
   "execution_count": 4,
   "metadata": {},
   "outputs": [],
   "source": [
    "dataset = pd.DataFrame.from_csv('featured_data.csv')\n",
    "train = pd.concat([dataset, test, validation]).drop_duplicates(keep=False)"
   ]
  },
  {
   "cell_type": "code",
   "execution_count": 5,
   "metadata": {
    "collapsed": true
   },
   "outputs": [],
   "source": [
    "feature_mask1 = np.loadtxt('feature_mask.txt')\n",
    "feature_mask2 = np.loadtxt('feature_mask2.txt')"
   ]
  },
  {
   "cell_type": "code",
   "execution_count": 6,
   "metadata": {
    "collapsed": true
   },
   "outputs": [],
   "source": [
    "with open('result_1.txt','rb') as fl:\n",
    "     result_f1 = pickle.load(fl)\n",
    "with open('result_2.txt','rb') as fl:\n",
    "     result_f2 = pickle.load(fl)\n",
    "with open('result_non.txt','rb') as fl:\n",
    "     result_non = pickle.load(fl)"
   ]
  },
  {
   "cell_type": "code",
   "execution_count": 7,
   "metadata": {},
   "outputs": [],
   "source": [
    "f1_best_index = result_f1[:,4].argmax()\n",
    "f2_best_index = result_f2[:,4].argmax()\n",
    "non_best_index = result_non[:,4].argmax()"
   ]
  },
  {
   "cell_type": "code",
   "execution_count": 8,
   "metadata": {
    "collapsed": true
   },
   "outputs": [],
   "source": [
    "f1_best_Model = SVC(C= np.float(result_f1[f1_best_index][0]),\n",
    "                    gamma= np.float(result_f1[f1_best_index][1]),\n",
    "                    kernel = str(result_f1[f1_best_index][2]),\n",
    "                    degree = np.float(result_f1[f1_best_index][3]));"
   ]
  },
  {
   "cell_type": "code",
   "execution_count": 9,
   "metadata": {
    "collapsed": true
   },
   "outputs": [],
   "source": [
    "f2_best_Model = SVC(C=np.float(result_f2[f2_best_index][0]),\n",
    "                    gamma= np.float(result_f2[f2_best_index][1]),\n",
    "                    kernel = str(result_f2[f2_best_index][2]),\n",
    "                    degree = np.float(result_f2[f2_best_index][3]));"
   ]
  },
  {
   "cell_type": "code",
   "execution_count": 10,
   "metadata": {
    "collapsed": true
   },
   "outputs": [],
   "source": [
    "non_best_Model = SVC(C=np.float(result_non[non_best_index][0]),\n",
    "                    gamma= np.float(result_non[non_best_index][1]),\n",
    "                    kernel = str(result_non[non_best_index][2]),\n",
    "                    degree = np.float(result_non[non_best_index][3]));"
   ]
  },
  {
   "cell_type": "markdown",
   "metadata": {},
   "source": [
    "# MODEL 1"
   ]
  },
  {
   "cell_type": "code",
   "execution_count": 11,
   "metadata": {},
   "outputs": [
    {
     "name": "stdout",
     "output_type": "stream",
     "text": [
      "Accuracy of Feature 1 :  0.817142857143\n"
     ]
    }
   ],
   "source": [
    "label_train = train['class']\n",
    "selected_feature = np.nonzero(feature_mask1);\n",
    "New_train = train.iloc[:,selected_feature[0]]\n",
    "New_test = test.iloc[:,selected_feature[0]]\n",
    "label_test = test['class']\n",
    "\n",
    "f1_best_Model.fit(New_train,label_train.values.ravel())\n",
    "pred = f1_best_Model.predict(New_test)\n",
    "accuracy = accuracy_score(pred,label_test.values.ravel())\n",
    "print(\"Accuracy of Feature 1 : \",accuracy)"
   ]
  },
  {
   "cell_type": "markdown",
   "metadata": {},
   "source": [
    "### Percision\n",
    "\n",
    "label_test = np.asanyarray(label_test)\n",
    "TP = np.sum(pred == label_test)\n",
    "FP = np.sum(label_test[np.where(label_test == 'Neg')[0]] != \\\n",
    "            pred[np.where(label_test == 'Neg')[0]])\n",
    "Precision = np.float(TP) / (np.float(TP) + np.float(FP))\n",
    "\n",
    "print(\"Precision = \",Precision)\n",
    "\n",
    "### Recal\n",
    "\n",
    "FN = np.sum(np.not_equal(\n",
    "                            label_test[np.where(label_test == 'Pos')[0]],\n",
    "                            pred[np.where(label_test == 'Pos')[0]]))\n",
    "Recal = np.float(TP) / (np.float(TP) + np.float(FN))\n",
    "\n",
    "print(\"Recal = \",Recal)"
   ]
  },
  {
   "cell_type": "markdown",
   "metadata": {
    "collapsed": true
   },
   "source": [
    "# MODEL 2"
   ]
  },
  {
   "cell_type": "code",
   "execution_count": 14,
   "metadata": {},
   "outputs": [
    {
     "name": "stdout",
     "output_type": "stream",
     "text": [
      "Accuracy of Feature 2 :  0.851428571429\n"
     ]
    }
   ],
   "source": [
    "selected_feature = np.nonzero(feature_mask2);\n",
    "New_train = train.iloc[:,selected_feature[0]]\n",
    "New_test = test.iloc[:,selected_feature[0]]\n",
    "label_test = test['class']\n",
    "\n",
    "f2_best_Model.fit(New_train,label_train.values.ravel())\n",
    "pred = f2_best_Model.predict(New_test)\n",
    "accuracy = accuracy_score(pred,label_test.values.ravel())\n",
    "print(\"Accuracy of Feature 2 : \",accuracy)"
   ]
  },
  {
   "cell_type": "markdown",
   "metadata": {},
   "source": [
    "### Percision"
   ]
  },
  {
   "cell_type": "code",
   "execution_count": 15,
   "metadata": {},
   "outputs": [
    {
     "name": "stdout",
     "output_type": "stream",
     "text": [
      "Precision =  0.93125\n"
     ]
    }
   ],
   "source": [
    "label_test = np.asanyarray(label_test)\n",
    "TP = np.sum(pred == label_test)\n",
    "FP = np.sum(label_test[np.where(label_test == 'Neg')[0]] != \\\n",
    "            pred[np.where(label_test == 'Neg')[0]])\n",
    "Precision = np.float(TP) / (np.float(TP) + np.float(FP))\n",
    "\n",
    "print(\"Precision = \",Precision)"
   ]
  },
  {
   "cell_type": "markdown",
   "metadata": {},
   "source": [
    "### Recal"
   ]
  },
  {
   "cell_type": "code",
   "execution_count": 16,
   "metadata": {},
   "outputs": [
    {
     "name": "stdout",
     "output_type": "stream",
     "text": [
      "Recal =  0.9085365853658537\n"
     ]
    }
   ],
   "source": [
    "FN = np.sum(np.not_equal(\n",
    "                            label_test[np.where(label_test == 'Pos')[0]],\n",
    "                            pred[np.where(label_test == 'Pos')[0]]))\n",
    "Recal = np.float(TP) / (np.float(TP) + np.float(FN))\n",
    "\n",
    "print(\"Recal = \",Recal)"
   ]
  },
  {
   "cell_type": "markdown",
   "metadata": {},
   "source": [
    "# MODEL 3"
   ]
  },
  {
   "cell_type": "code",
   "execution_count": 17,
   "metadata": {},
   "outputs": [
    {
     "name": "stdout",
     "output_type": "stream",
     "text": [
      "Accuracy of Default Feature :  0.834285714286\n"
     ]
    }
   ],
   "source": [
    "New_train = train.ix[:,train.columns != 'class'];\n",
    "New_test = test.ix[:,train.columns != 'class'];\n",
    "label_test = test['class']\n",
    "\n",
    "non_best_Model.fit(New_train,label_train.values.ravel())\n",
    "pred = non_best_Model.predict(New_test)\n",
    "accuracy = accuracy_score(pred,label_test.values.ravel())\n",
    "print(\"Accuracy of Default Feature : \",accuracy)"
   ]
  },
  {
   "cell_type": "markdown",
   "metadata": {},
   "source": [
    "### Percision"
   ]
  },
  {
   "cell_type": "code",
   "execution_count": 18,
   "metadata": {},
   "outputs": [
    {
     "name": "stdout",
     "output_type": "stream",
     "text": [
      "Precision =  0.9012345679012346\n"
     ]
    }
   ],
   "source": [
    "label_test = np.asanyarray(label_test)\n",
    "TP = np.sum(pred == label_test)\n",
    "FP = np.sum(label_test[np.where(label_test == 'Neg')[0]] != \\\n",
    "            pred[np.where(label_test == 'Neg')[0]])\n",
    "Precision = np.float(TP) / (np.float(TP) + np.float(FP))\n",
    "\n",
    "print(\"Precision = \",Precision)"
   ]
  },
  {
   "cell_type": "markdown",
   "metadata": {},
   "source": [
    "### Recal"
   ]
  },
  {
   "cell_type": "code",
   "execution_count": 19,
   "metadata": {},
   "outputs": [
    {
     "name": "stdout",
     "output_type": "stream",
     "text": [
      "Recal =  0.9182389937106918\n"
     ]
    }
   ],
   "source": [
    "FN = np.sum(np.not_equal(\n",
    "                            label_test[np.where(label_test == 'Pos')[0]],\n",
    "                            pred[np.where(label_test == 'Pos')[0]]))\n",
    "Recal = np.float(TP) / (np.float(TP) + np.float(FN))\n",
    "\n",
    "print(\"Recal = \",Recal)"
   ]
  }
 ],
 "metadata": {
  "kernelspec": {
   "display_name": "Python 2",
   "language": "python",
   "name": "python2"
  },
  "language_info": {
   "codemirror_mode": {
    "name": "ipython",
    "version": 2
   },
   "file_extension": ".py",
   "mimetype": "text/x-python",
   "name": "python",
   "nbconvert_exporter": "python",
   "pygments_lexer": "ipython2",
   "version": "2.7.16"
  }
 },
 "nbformat": 4,
 "nbformat_minor": 2
}
