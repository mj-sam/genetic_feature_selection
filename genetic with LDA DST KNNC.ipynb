{
 "cells": [
  {
   "cell_type": "markdown",
   "metadata": {},
   "source": [
    "Load Libs"
   ]
  },
  {
   "cell_type": "code",
   "execution_count": 1,
   "metadata": {
    "collapsed": false
   },
   "outputs": [],
   "source": [
    "import pandas as pd\n",
    "import numpy as np\n",
    "from sklearn.svm import SVC\n",
    "from matplotlib import pyplot as plt\n",
    "import pickle\n",
    "from sklearn.neighbors import KNeighborsClassifier as KNNC\n",
    "from sklearn.tree import DecisionTreeClassifier as DST\n",
    "from Gen_diffrent_classifier import *\n",
    "%matplotlib inline"
   ]
  },
  {
   "cell_type": "markdown",
   "metadata": {},
   "source": [
    "Load Data"
   ]
  },
  {
   "cell_type": "code",
   "execution_count": 2,
   "metadata": {
    "collapsed": true
   },
   "outputs": [],
   "source": [
    "with open('test.pkl','rb') as fl:\n",
    "    test = pickle.load(fl)"
   ]
  },
  {
   "cell_type": "code",
   "execution_count": 3,
   "metadata": {
    "collapsed": false
   },
   "outputs": [],
   "source": [
    "with open('validation.pkl','rb') as fl:\n",
    "    validation = pickle.load(fl)\n",
    "\n",
    "with open('test.pkl','rb') as fl:\n",
    "    test = pickle.load(fl)\n",
    "\n",
    "dataset = pd.DataFrame.from_csv('featured_data.csv')\n",
    "train = pd.concat([dataset, test, validation]).drop_duplicates(keep=False)"
   ]
  },
  {
   "cell_type": "markdown",
   "metadata": {},
   "source": [
    "### Without Genetic"
   ]
  },
  {
   "cell_type": "code",
   "execution_count": 4,
   "metadata": {
    "collapsed": false
   },
   "outputs": [],
   "source": [
    "label_test = np.asanyarray(test.ix[:, test.columns == 'class'])"
   ]
  },
  {
   "cell_type": "code",
   "execution_count": 5,
   "metadata": {
    "collapsed": false
   },
   "outputs": [
    {
     "name": "stderr",
     "output_type": "stream",
     "text": [
      "/home/sam/anaconda3/lib/python3.6/site-packages/ipykernel/__main__.py:3: DataConversionWarning: A column-vector y was passed when a 1d array was expected. Please change the shape of y to (n_samples, ), for example using ravel().\n",
      "  app.launch_new_instance()\n"
     ]
    },
    {
     "name": "stdout",
     "output_type": "stream",
     "text": [
      "Precision =  0.9942857142857143\n",
      "Recal =  0.7236084452975048\n"
     ]
    }
   ],
   "source": [
    "KNNC_model = KNNC()\n",
    "\n",
    "KNNC_model.fit(validation.ix[:, train.columns != 'class'],validation.ix[:, train.columns == 'class'])\n",
    "\n",
    "KNNC_model.score(test.ix[:,train.columns != 'class'],test.ix[:, test.columns == 'class'])\n",
    "\n",
    "pred_KNNC = KNNC_model.predict(test.ix[:,train.columns != 'class'])\n",
    "\n",
    "### Percision\n",
    "\n",
    "label_test = np.asanyarray(label_test)\n",
    "TP = np.sum(pred_KNNC== label_test)\n",
    "FP = np.sum(label_test[np.where(label_test == 'Neg')[0]] != \\\n",
    "            pred_KNNC[np.where(label_test == 'Neg')[0]])\n",
    "Precision = np.float(TP) / (np.float(TP) + np.float(FP))\n",
    "\n",
    "print(\"Precision = \",Precision)\n",
    "\n",
    "### Recal\n",
    "\n",
    "FN = np.sum(np.not_equal(\n",
    "                            label_test[np.where(label_test == 'Pos')[0]],\n",
    "                            pred_KNNC[np.where(label_test == 'Pos')[0]]))\n",
    "Recal = np.float(TP) / (np.float(TP) + np.float(FN))\n",
    "\n",
    "print(\"Recal = \",Recal)"
   ]
  },
  {
   "cell_type": "code",
   "execution_count": 6,
   "metadata": {
    "collapsed": false
   },
   "outputs": [
    {
     "name": "stdout",
     "output_type": "stream",
     "text": [
      "Precision =  0.8316831683168316\n",
      "Recal =  0.8708133971291866\n"
     ]
    }
   ],
   "source": [
    "DST_model = DST()\n",
    "\n",
    "DST_model.fit(validation.ix[:, train.columns != 'class'],validation.ix[:, train.columns == 'class'])\n",
    "\n",
    "DST_model.score(test.ix[:,train.columns != 'class'],test.ix[:, test.columns == 'class'])\n",
    "\n",
    "pred_DST = DST_model.predict(test.ix[:,train.columns != 'class'])\n",
    "### Percision\n",
    "\n",
    "label_test = np.asanyarray(label_test)\n",
    "TP = np.sum(pred_DST== label_test)\n",
    "FP = np.sum(label_test[np.where(label_test == 'Neg')[0]] != \\\n",
    "            pred_DST[np.where(label_test == 'Neg')[0]])\n",
    "Precision = np.float(TP) / (np.float(TP) + np.float(FP))\n",
    "\n",
    "print(\"Precision = \",Precision)\n",
    "\n",
    "### Recal\n",
    "\n",
    "FN = np.sum(np.not_equal(\n",
    "                            label_test[np.where(label_test == 'Pos')[0]],\n",
    "                            pred_DST[np.where(label_test == 'Pos')[0]]))\n",
    "Recal = np.float(TP) / (np.float(TP) + np.float(FN))\n",
    "\n",
    "print(\"Recal = \",Recal)"
   ]
  },
  {
   "cell_type": "markdown",
   "metadata": {},
   "source": [
    "## With Genetic"
   ]
  },
  {
   "cell_type": "code",
   "execution_count": 7,
   "metadata": {
    "collapsed": false,
    "scrolled": false
   },
   "outputs": [
    {
     "name": "stdout",
     "output_type": "stream",
     "text": [
      " ***************Trainig for classifier Desicion Tree is started ******************\n",
      "Maximum Score Untill Now is 0.3215526721231853 \n",
      "Maximum Score Untill Now is 0.3443832880064682 \n",
      "Maximum Score Untill Now is 0.35247726810876717 \n",
      "AxesImage(54,36;334.8x217.44)\n",
      "Maximum Generation Has met , process terminated \n",
      "Accuracy of model on test data is :  0.717948717949\n",
      " ***************Trainig for classifier K Neighrest Neighbour Classifier is started ******************\n",
      "Maximum Score Untill Now is 0.345619868299875 \n",
      "Maximum Score Untill Now is 0.37081122837966185 \n",
      "Maximum Score Untill Now is 0.37081122837966185 \n",
      "AxesImage(54,36;334.8x217.44)\n",
      "Maximum Generation Has met , process terminated \n",
      "Accuracy of model on test data is :  0.871794871795\n"
     ]
    },
    {
     "data": {
      "image/png": "[encoded data removed]",
      "text/plain": [
       "<matplotlib.figure.Figure at 0x7fd660f53a58>"
      ]
     },
     "metadata": {},
     "output_type": "display_data"
    },
    {
     "data": {
      "image/png": "[encoded data removed]",
      "text/plain": [
       "<matplotlib.figure.Figure at 0x7fd625247da0>"
      ]
     },
     "metadata": {},
     "output_type": "display_data"
    }
   ],
   "source": [
    "CLFss = ['Desicion Tree' ,'K Neighrest Neighbour Classifier']\n",
    "CLFs = {'DST':DST(),'KNNC':KNNC(),}\n",
    "gene = [None for i in range(len(CLFs))]\n",
    "reduced_feature = [None for i in range(len(CLFs))]\n",
    "for i_CLF in range(len(CLFs)):\n",
    "    print(' ***************Trainig for classifier {} is started ******************'.format(CLFss[i_CLF]))\n",
    "    gene[i_CLF] = genetic(train,Generation=13,Penalty_rate=1.0,classifier=list(CLFs.values())[i_CLF])\n",
    "    gene[i_CLF].Generate()\n",
    "    reduced_feature[i_CLF] = gene[i_CLF].train()"
   ]
  },
  {
   "cell_type": "markdown",
   "metadata": {},
   "source": [
    "Features "
   ]
  },
  {
   "cell_type": "code",
   "execution_count": 11,
   "metadata": {
    "collapsed": false
   },
   "outputs": [
    {
     "name": "stdout",
     "output_type": "stream",
     "text": [
      "Found Feature for Desicion Tree 8783\n",
      "Found Feature for K Neighrest Neighbour Classifier 8913\n"
     ]
    }
   ],
   "source": [
    "for i_CLF in range(len(CLFss)):\n",
    "    print(\"Found Feature for {}\".format(CLFss[i_CLF]),gene[i_CLF].society[0,0].sum())"
   ]
  },
  {
   "cell_type": "code",
   "execution_count": 12,
   "metadata": {
    "collapsed": false
   },
   "outputs": [],
   "source": [
    "def DST_hyper(i):\n",
    "    selected_feature = np.nonzero(reduced_feature[i]);\n",
    "    New_validation = validation.iloc[:,selected_feature[0]]\n",
    "    New_train = train.iloc[:,selected_feature[0]]\n",
    "    result = np.zeros((0,4))\n",
    "    label_train = train['class']\n",
    "    label_validation = validation['class']\n",
    "    criterion = ['gini','entropy']\n",
    "    depth = [2,5,100,1000,2000,5000,None]\n",
    "    result_f1 = np.zeros((0,4))\n",
    "    for i_criterion in range(len(criterion)):\n",
    "        for i_depth in range(len(depth)):\n",
    "            Model = DST(criterion=criterion[i_criterion],\n",
    "                        max_depth = depth[i_depth],)\n",
    "            Model.fit(New_train, label_train.values.ravel());\n",
    "            Prediction = Model.predict(New_validation)\n",
    "            accuracy = accuracy_score(Prediction,label_validation.values.ravel())\n",
    "            result = np.vstack((result,(Model,\n",
    "                                                criterion[i_criterion],\n",
    "                                                depth[i_depth],\n",
    "                                                accuracy)))\n",
    "    \n",
    "    return result[np.argmax(result[:,3]),0]"
   ]
  },
  {
   "cell_type": "code",
   "execution_count": 13,
   "metadata": {
    "collapsed": true
   },
   "outputs": [],
   "source": [
    "def KNN_hyper(i):\n",
    "    selected_feature = np.nonzero(reduced_feature[i]);\n",
    "    New_validation = validation.iloc[:,selected_feature[0]]\n",
    "    New_train = train.iloc[:,selected_feature[0]]\n",
    "\n",
    "    label_train = train['class']\n",
    "    label_validation = validation['class']\n",
    "    \n",
    "    metric = ['cityblock', 'cosine', 'euclidean', 'l1', 'l2','manhattan']\n",
    "    algorithm = ['auto','ball_tree', 'kd_tree', 'brute']\n",
    "    \n",
    "    result = np.zeros((0,4))\n",
    "    for i_metric in range(len(metric)):\n",
    "        for i_algorithm in range(len(algorithm)):\n",
    "            try:\n",
    "                Model = KNNC(algorithm= algorithm[i_algorithm],\n",
    "                            metric = metric[i_metric])\n",
    "                Model.fit(New_train, label_train.values.ravel());\n",
    "                Prediction = Model.predict(New_validation)\n",
    "                accuracy = accuracy_score(Prediction,label_validation.values.ravel())\n",
    "                result = np.vstack((result,(Model,\n",
    "                                                metric[i_metric],\n",
    "                                                algorithm[i_algorithm],\n",
    "                                                accuracy)))\n",
    "            except:\n",
    "                pass\n",
    "    \n",
    "    return result[np.argmax(result[:,3]),0]"
   ]
  },
  {
   "cell_type": "code",
   "execution_count": 14,
   "metadata": {
    "collapsed": false
   },
   "outputs": [
    {
     "name": "stdout",
     "output_type": "stream",
     "text": [
      "0.822857142857\n",
      "Precision =  0.9032258064516129\n",
      "Recal =  0.9333333333333333\n"
     ]
    }
   ],
   "source": [
    "KNNC_model = KNN_hyper(0)\n",
    "\n",
    "print(KNNC_model.score(test.ix[:,reduced_feature[0] == 1],test.ix[:, test.columns == 'class']))\n",
    "\n",
    "pred_KNNC = KNNC_model.predict(test.ix[:,reduced_feature[0] == 1])\n",
    "\n",
    "### Percision\n",
    "\n",
    "label_test = np.asanyarray(label_test)\n",
    "TP = np.sum(pred_DST== label_test)\n",
    "FP = np.sum(label_test[np.where(label_test == 'Neg')[0]] != \\\n",
    "            pred_KNNC[np.where(label_test == 'Neg')[0]])\n",
    "Precision = np.float(TP) / (np.float(TP) + np.float(FP))\n",
    "\n",
    "print(\"Precision = \",Precision)\n",
    "\n",
    "### Recal\n",
    "\n",
    "FN = np.sum(np.not_equal(\n",
    "                            label_test[np.where(label_test == 'Pos')[0]],\n",
    "                            pred_KNNC[np.where(label_test == 'Pos')[0]]))\n",
    "Recal = np.float(TP) / (np.float(TP) + np.float(FN))\n",
    "\n",
    "print(\"Recal = \",Recal)"
   ]
  },
  {
   "cell_type": "code",
   "execution_count": 15,
   "metadata": {
    "collapsed": false
   },
   "outputs": [
    {
     "name": "stdout",
     "output_type": "stream",
     "text": [
      "0.628571428571\n",
      "Precision =  0.8111731843575419\n",
      "Recal =  0.8746987951807229\n"
     ]
    }
   ],
   "source": [
    "DST_model = DST_hyper(1)\n",
    "\n",
    "print(DST_model.score(test.ix[:,reduced_feature[1] == 1],test.ix[:, test.columns == 'class']))\n",
    "\n",
    "pred_DST = DST_model.predict(test.ix[:,reduced_feature[1] == 1])\n",
    "### Percision\n",
    "\n",
    "label_test = np.asanyarray(label_test)\n",
    "TP = np.sum(pred_DST== label_test)\n",
    "FP = np.sum(label_test[np.where(label_test == 'Neg')[0]] != \\\n",
    "            pred_DST[np.where(label_test == 'Neg')[0]])\n",
    "Precision = np.float(TP) / (np.float(TP) + np.float(FP))\n",
    "\n",
    "print(\"Precision = \",Precision)\n",
    "\n",
    "### Recal\n",
    "\n",
    "FN = np.sum(np.not_equal(\n",
    "                            label_test[np.where(label_test == 'Pos')[0]],\n",
    "                            pred_DST[np.where(label_test == 'Pos')[0]]))\n",
    "Recal = np.float(TP) / (np.float(TP) + np.float(FN))\n",
    "\n",
    "print(\"Recal = \",Recal)"
   ]
  },
  {
   "cell_type": "code",
   "execution_count": null,
   "metadata": {
    "collapsed": true
   },
   "outputs": [],
   "source": []
  }
 ],
 "metadata": {
  "kernelspec": {
   "display_name": "Python 3",
   "language": "python",
   "name": "python3"
  },
  "language_info": {
   "codemirror_mode": {
    "name": "ipython",
    "version": 3
   },
   "file_extension": ".py",
   "mimetype": "text/x-python",
   "name": "python",
   "nbconvert_exporter": "python",
   "pygments_lexer": "ipython3",
   "version": "3.6.0"
  }
 },
 "nbformat": 4,
 "nbformat_minor": 2
}
