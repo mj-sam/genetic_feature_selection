{
 "cells": [
  {
   "cell_type": "markdown",
   "metadata": {},
   "source": [
    "import necessary library"
   ]
  },
  {
   "cell_type": "code",
   "execution_count": 1,
   "metadata": {},
   "outputs": [],
   "source": [
    "import pandas as pd\n",
    "import numpy as np\n",
    "from copy import deepcopy\n",
    "from sklearn.svm import SVC\n",
    "from sklearn.metrics import accuracy_score\n",
    "import gc\n",
    "from sklearn.model_selection import train_test_split\n",
    "from numpy.random import choice\n",
    "import pickle"
   ]
  },
  {
   "cell_type": "markdown",
   "metadata": {},
   "source": [
    "import untouched data from last phase"
   ]
  },
  {
   "cell_type": "code",
   "execution_count": 2,
   "metadata": {},
   "outputs": [],
   "source": [
    "with open('validation.pkl','rb') as fl:\n",
    "    validation = pickle.load(fl)"
   ]
  },
  {
   "cell_type": "code",
   "execution_count": 3,
   "metadata": {},
   "outputs": [],
   "source": [
    "with open('test.pkl','rb') as fl:\n",
    "    test = pickle.load(fl)"
   ]
  },
  {
   "cell_type": "code",
   "execution_count": 4,
   "metadata": {},
   "outputs": [],
   "source": [
    "dataset = pd.DataFrame.from_csv('featured_data.csv')\n",
    "\n",
    "train = pd.concat([dataset, test, validation]).drop_duplicates(keep=False)"
   ]
  },
  {
   "cell_type": "markdown",
   "metadata": {},
   "source": [
    "load selected feature :\n",
    "feature 1 has been found with penalty = 1 and feature 2 has been found with penalty=1.2\n",
    "\n",
    "ماسک دوم با پنالتی ۱.۲\n",
    "و هردو ماسک با کاهش میزان نرخ جهش بدست آمده است"
   ]
  },
  {
   "cell_type": "code",
   "execution_count": 5,
   "metadata": {
    "collapsed": true
   },
   "outputs": [],
   "source": [
    "feature_mask1 = np.loadtxt('feature_mask.txt')\n",
    "feature_mask2 = np.loadtxt('feature_mask2.txt')"
   ]
  },
  {
   "cell_type": "markdown",
   "metadata": {},
   "source": [
    "define parameter search space for hyperparameter selection"
   ]
  },
  {
   "cell_type": "code",
   "execution_count": 6,
   "metadata": {
    "collapsed": true
   },
   "outputs": [],
   "source": [
    "degree = [1,3]\n",
    "cost_value = [0.1,0.8,0.9,1,1.1,1.3,10]\n",
    "gamma_value = [1.0/dataset.shape[0] ,1.0/feature_mask1.sum(),0.1,1.0]\n",
    "kernel_mode = ['poly','sigmoid','rbf']"
   ]
  },
  {
   "cell_type": "markdown",
   "metadata": {},
   "source": [
    "## Hyper parameter selection for feature selected by first run with penalty = 1"
   ]
  },
  {
   "cell_type": "code",
   "execution_count": 7,
   "metadata": {
    "scrolled": false
   },
   "outputs": [],
   "source": [
    "def Test_Feature1():\n",
    "    selected_feature = np.nonzero(feature_mask1);\n",
    "    New_validation = validation.iloc[:,selected_feature[0]]\n",
    "    New_train = train.iloc[:,selected_feature[0]]\n",
    "\n",
    "    label_train = train['class']\n",
    "    label_validation = validation['class']\n",
    "\n",
    "    result_f1 = np.zeros((0,5))\n",
    "    for i_degree in range(len(degree)):\n",
    "        for i_cost in range(len(cost_value)):\n",
    "            for i_gamma in range(len(gamma_value)):\n",
    "                for i_kernel in range(len(kernel_mode)):\n",
    "                    Model = SVC(C=cost_value[i_cost],\n",
    "                                gamma=gamma_value[i_gamma],\n",
    "                                kernel= kernel_mode[i_kernel],\n",
    "                                degree=degree[i_degree])\n",
    "\n",
    "                    Model.fit(New_train, label_train.values.ravel());\n",
    "                    Prediction = Model.predict(New_validation)\n",
    "                    accuracy = accuracy_score(Prediction,label_validation.values.ravel())\n",
    "                    result_f1 = np.vstack((result_f1,(cost_value[i_cost],\n",
    "                                                        gamma_value[i_gamma],\n",
    "                                                        kernel_mode[i_kernel],\n",
    "                                                        degree[i_degree],\n",
    "                                                        accuracy)))\n",
    "                    print(\"SVM WITH : {} {} {} {} is done with : {}\".format(cost_value[i_cost],\n",
    "                                                                         gamma_value[i_gamma], \n",
    "                                                                         kernel_mode[i_kernel],\n",
    "                                                                         degree[i_degree],\n",
    "                                                                         accuracy))\n",
    "    return result_f1"
   ]
  },
  {
   "cell_type": "markdown",
   "metadata": {},
   "source": [
    "## Hyper parameter selection for feature selected by first run with penalty = 1.2"
   ]
  },
  {
   "cell_type": "code",
   "execution_count": 8,
   "metadata": {
    "scrolled": true
   },
   "outputs": [],
   "source": [
    "def Test_Feature2():\n",
    "    selected_feature = np.nonzero(feature_mask2);\n",
    "\n",
    "    New_validation = validation.iloc[:,selected_feature[0]]\n",
    "    New_train = train.iloc[:,selected_feature[0]]\n",
    "\n",
    "    label_train = train['class']\n",
    "    label_validation = validation['class']\n",
    "\n",
    "    result_f2 = np.zeros((0,5))\n",
    "    for i_degree in range(len(degree)):\n",
    "        for i_cost in range(len(cost_value)):\n",
    "            for i_gamma in range(len(gamma_value)):\n",
    "                for i_kernel in range(len(kernel_mode)):\n",
    "                    Model = SVC(C=cost_value[i_cost],\n",
    "                                gamma=gamma_value[i_gamma],\n",
    "                                kernel= kernel_mode[i_kernel],\n",
    "                                degree=degree[i_degree])\n",
    "\n",
    "                    Model.fit(New_train, label_train.values.ravel());\n",
    "                    Prediction = Model.predict(New_validation)\n",
    "                    accuracy = accuracy_score(Prediction,label_validation.values.ravel())\n",
    "                    result_f2 = np.vstack((result_f2,(cost_value[i_cost],\n",
    "                                                        gamma_value[i_gamma],\n",
    "                                                        kernel_mode[i_kernel],\n",
    "                                                        degree[i_degree],\n",
    "                                                        accuracy)))\n",
    "                    print(\"SVM WITH : {} {} {} {} is done with : {}\".format(cost_value[i_cost],\n",
    "                                                                         gamma_value[i_gamma], \n",
    "                                                                         kernel_mode[i_kernel],\n",
    "                                                                         degree[i_degree],\n",
    "                                                                         accuracy))\n",
    "    return result_f2"
   ]
  },
  {
   "cell_type": "markdown",
   "metadata": {},
   "source": [
    "## Hyper parameter selection for default feature"
   ]
  },
  {
   "cell_type": "code",
   "execution_count": 9,
   "metadata": {
    "scrolled": false
   },
   "outputs": [],
   "source": [
    "def Test_Default_Feature():\n",
    "    New_validation = validation.ix[:,validation.columns != 'class'];\n",
    "    New_train = train.ix[:,train.columns != 'class'];\n",
    "\n",
    "    label_train = train['class']\n",
    "    label_validation = validation['class']\n",
    "\n",
    "    result_non = np.zeros((0,5))\n",
    "    for i_degree in range(len(degree)):\n",
    "        for i_cost in range(len(cost_value)):\n",
    "            for i_gamma in range(len(gamma_value)):\n",
    "                for i_kernel in range(len(kernel_mode)):\n",
    "                    Model = SVC(C=cost_value[i_cost],\n",
    "                                gamma=gamma_value[i_gamma],\n",
    "                                kernel= kernel_mode[i_kernel],\n",
    "                                degree=degree[i_degree])\n",
    "\n",
    "                    Model.fit(New_train, label_train.values.ravel());\n",
    "                    Prediction = Model.predict(New_validation)\n",
    "                    accuracy = accuracy_score(Prediction,label_validation.values.ravel())\n",
    "                    result_non = np.vstack((result_non,(cost_value[i_cost],\n",
    "                                                        gamma_value[i_gamma],\n",
    "                                                        kernel_mode[i_kernel],\n",
    "                                                        degree[i_degree],\n",
    "                                                        accuracy)))\n",
    "                    print(\"SVM WITH : {} {} {} {} is done with : {}\".format(cost_value[i_cost],\n",
    "                                                                         gamma_value[i_gamma], \n",
    "                                                                         kernel_mode[i_kernel],\n",
    "                                                                         degree[i_degree],\n",
    "                                                                         accuracy))\n",
    "    return result_non"
   ]
  },
  {
   "cell_type": "code",
   "execution_count": 10,
   "metadata": {
    "scrolled": false
   },
   "outputs": [
    {
     "name": "stdout",
     "output_type": "stream",
     "text": [
      "SVM WITH : 0.1 0.0010030090270812437 poly 1 is done with : 0.8103448275862069\n",
      "SVM WITH : 0.1 0.0010030090270812437 sigmoid 1 is done with : 0.8160919540229885\n",
      "SVM WITH : 0.1 0.0010030090270812437 rbf 1 is done with : 0.4540229885057471\n",
      "SVM WITH : 0.1 0.00011174432897530451 poly 1 is done with : 0.4540229885057471\n",
      "SVM WITH : 0.1 0.00011174432897530451 sigmoid 1 is done with : 0.4540229885057471\n",
      "SVM WITH : 0.1 0.00011174432897530451 rbf 1 is done with : 0.4540229885057471\n",
      "SVM WITH : 0.1 0.1 poly 1 is done with : 0.7931034482758621\n",
      "SVM WITH : 0.1 0.1 sigmoid 1 is done with : 0.6724137931034483\n",
      "SVM WITH : 0.1 0.1 rbf 1 is done with : 0.4540229885057471\n",
      "SVM WITH : 0.1 1.0 poly 1 is done with : 0.7931034482758621\n",
      "SVM WITH : 0.1 1.0 sigmoid 1 is done with : 0.45977011494252873\n",
      "SVM WITH : 0.1 1.0 rbf 1 is done with : 0.4540229885057471\n",
      "SVM WITH : 0.8 0.0010030090270812437 poly 1 is done with : 0.8103448275862069\n",
      "SVM WITH : 0.8 0.0010030090270812437 sigmoid 1 is done with : 0.8390804597701149\n",
      "SVM WITH : 0.8 0.0010030090270812437 rbf 1 is done with : 0.6264367816091954\n",
      "SVM WITH : 0.8 0.00011174432897530451 poly 1 is done with : 0.8160919540229885\n",
      "SVM WITH : 0.8 0.00011174432897530451 sigmoid 1 is done with : 0.8275862068965517\n",
      "SVM WITH : 0.8 0.00011174432897530451 rbf 1 is done with : 0.7931034482758621\n",
      "SVM WITH : 0.8 0.1 poly 1 is done with : 0.7931034482758621\n",
      "SVM WITH : 0.8 0.1 sigmoid 1 is done with : 0.632183908045977\n",
      "SVM WITH : 0.8 0.1 rbf 1 is done with : 0.4540229885057471\n",
      "SVM WITH : 0.8 1.0 poly 1 is done with : 0.7931034482758621\n",
      "SVM WITH : 0.8 1.0 sigmoid 1 is done with : 0.5574712643678161\n",
      "SVM WITH : 0.8 1.0 rbf 1 is done with : 0.4540229885057471\n",
      "SVM WITH : 0.9 0.0010030090270812437 poly 1 is done with : 0.8103448275862069\n",
      "SVM WITH : 0.9 0.0010030090270812437 sigmoid 1 is done with : 0.8333333333333334\n",
      "SVM WITH : 0.9 0.0010030090270812437 rbf 1 is done with : 0.6666666666666666\n",
      "SVM WITH : 0.9 0.00011174432897530451 poly 1 is done with : 0.8103448275862069\n",
      "SVM WITH : 0.9 0.00011174432897530451 sigmoid 1 is done with : 0.8160919540229885\n",
      "SVM WITH : 0.9 0.00011174432897530451 rbf 1 is done with : 0.7873563218390804\n",
      "SVM WITH : 0.9 0.1 poly 1 is done with : 0.7931034482758621\n",
      "SVM WITH : 0.9 0.1 sigmoid 1 is done with : 0.632183908045977\n",
      "SVM WITH : 0.9 0.1 rbf 1 is done with : 0.4540229885057471\n",
      "SVM WITH : 0.9 1.0 poly 1 is done with : 0.7931034482758621\n",
      "SVM WITH : 0.9 1.0 sigmoid 1 is done with : 0.5574712643678161\n",
      "SVM WITH : 0.9 1.0 rbf 1 is done with : 0.4540229885057471\n",
      "SVM WITH : 1 0.0010030090270812437 poly 1 is done with : 0.8045977011494253\n",
      "SVM WITH : 1 0.0010030090270812437 sigmoid 1 is done with : 0.8390804597701149\n",
      "SVM WITH : 1 0.0010030090270812437 rbf 1 is done with : 0.6896551724137931\n",
      "SVM WITH : 1 0.00011174432897530451 poly 1 is done with : 0.8103448275862069\n",
      "SVM WITH : 1 0.00011174432897530451 sigmoid 1 is done with : 0.8103448275862069\n",
      "SVM WITH : 1 0.00011174432897530451 rbf 1 is done with : 0.7816091954022989\n",
      "SVM WITH : 1 0.1 poly 1 is done with : 0.7931034482758621\n",
      "SVM WITH : 1 0.1 sigmoid 1 is done with : 0.632183908045977\n",
      "SVM WITH : 1 0.1 rbf 1 is done with : 0.4540229885057471\n",
      "SVM WITH : 1 1.0 poly 1 is done with : 0.7931034482758621\n",
      "SVM WITH : 1 1.0 sigmoid 1 is done with : 0.5804597701149425\n",
      "SVM WITH : 1 1.0 rbf 1 is done with : 0.4540229885057471\n",
      "SVM WITH : 1.1 0.0010030090270812437 poly 1 is done with : 0.7988505747126436\n",
      "SVM WITH : 1.1 0.0010030090270812437 sigmoid 1 is done with : 0.8390804597701149\n",
      "SVM WITH : 1.1 0.0010030090270812437 rbf 1 is done with : 0.6954022988505747\n",
      "SVM WITH : 1.1 0.00011174432897530451 poly 1 is done with : 0.7988505747126436\n",
      "SVM WITH : 1.1 0.00011174432897530451 sigmoid 1 is done with : 0.8160919540229885\n",
      "SVM WITH : 1.1 0.00011174432897530451 rbf 1 is done with : 0.7931034482758621\n",
      "SVM WITH : 1.1 0.1 poly 1 is done with : 0.7931034482758621\n",
      "SVM WITH : 1.1 0.1 sigmoid 1 is done with : 0.6206896551724138\n",
      "SVM WITH : 1.1 0.1 rbf 1 is done with : 0.4540229885057471\n",
      "SVM WITH : 1.1 1.0 poly 1 is done with : 0.7931034482758621\n",
      "SVM WITH : 1.1 1.0 sigmoid 1 is done with : 0.6149425287356322\n",
      "SVM WITH : 1.1 1.0 rbf 1 is done with : 0.4540229885057471\n",
      "SVM WITH : 1.3 0.0010030090270812437 poly 1 is done with : 0.7988505747126436\n",
      "SVM WITH : 1.3 0.0010030090270812437 sigmoid 1 is done with : 0.8160919540229885\n",
      "SVM WITH : 1.3 0.0010030090270812437 rbf 1 is done with : 0.6954022988505747\n",
      "SVM WITH : 1.3 0.00011174432897530451 poly 1 is done with : 0.7988505747126436\n",
      "SVM WITH : 1.3 0.00011174432897530451 sigmoid 1 is done with : 0.8275862068965517\n",
      "SVM WITH : 1.3 0.00011174432897530451 rbf 1 is done with : 0.8045977011494253\n",
      "SVM WITH : 1.3 0.1 poly 1 is done with : 0.7931034482758621\n",
      "SVM WITH : 1.3 0.1 sigmoid 1 is done with : 0.6379310344827587\n",
      "SVM WITH : 1.3 0.1 rbf 1 is done with : 0.4540229885057471\n",
      "SVM WITH : 1.3 1.0 poly 1 is done with : 0.7931034482758621\n",
      "SVM WITH : 1.3 1.0 sigmoid 1 is done with : 0.6149425287356322\n",
      "SVM WITH : 1.3 1.0 rbf 1 is done with : 0.4540229885057471\n",
      "SVM WITH : 10 0.0010030090270812437 poly 1 is done with : 0.7931034482758621\n",
      "SVM WITH : 10 0.0010030090270812437 sigmoid 1 is done with : 0.7471264367816092\n",
      "SVM WITH : 10 0.0010030090270812437 rbf 1 is done with : 0.6954022988505747\n",
      "SVM WITH : 10 0.00011174432897530451 poly 1 is done with : 0.7988505747126436\n",
      "SVM WITH : 10 0.00011174432897530451 sigmoid 1 is done with : 0.8045977011494253\n",
      "SVM WITH : 10 0.00011174432897530451 rbf 1 is done with : 0.7873563218390804\n",
      "SVM WITH : 10 0.1 poly 1 is done with : 0.7931034482758621\n",
      "SVM WITH : 10 0.1 sigmoid 1 is done with : 0.6206896551724138\n",
      "SVM WITH : 10 0.1 rbf 1 is done with : 0.4540229885057471\n",
      "SVM WITH : 10 1.0 poly 1 is done with : 0.7931034482758621\n",
      "SVM WITH : 10 1.0 sigmoid 1 is done with : 0.5517241379310345\n",
      "SVM WITH : 10 1.0 rbf 1 is done with : 0.4540229885057471\n",
      "SVM WITH : 0.1 0.0010030090270812437 poly 3 is done with : 0.5804597701149425\n",
      "SVM WITH : 0.1 0.0010030090270812437 sigmoid 3 is done with : 0.8160919540229885\n",
      "SVM WITH : 0.1 0.0010030090270812437 rbf 3 is done with : 0.4540229885057471\n",
      "SVM WITH : 0.1 0.00011174432897530451 poly 3 is done with : 0.4540229885057471\n",
      "SVM WITH : 0.1 0.00011174432897530451 sigmoid 3 is done with : 0.4540229885057471\n",
      "SVM WITH : 0.1 0.00011174432897530451 rbf 3 is done with : 0.4540229885057471\n",
      "SVM WITH : 0.1 0.1 poly 3 is done with : 0.5919540229885057\n",
      "SVM WITH : 0.1 0.1 sigmoid 3 is done with : 0.6724137931034483\n",
      "SVM WITH : 0.1 0.1 rbf 3 is done with : 0.4540229885057471\n",
      "SVM WITH : 0.1 1.0 poly 3 is done with : 0.5919540229885057\n",
      "SVM WITH : 0.1 1.0 sigmoid 3 is done with : 0.45977011494252873\n",
      "SVM WITH : 0.1 1.0 rbf 3 is done with : 0.4540229885057471\n",
      "SVM WITH : 0.8 0.0010030090270812437 poly 3 is done with : 0.7068965517241379\n",
      "SVM WITH : 0.8 0.0010030090270812437 sigmoid 3 is done with : 0.8390804597701149\n",
      "SVM WITH : 0.8 0.0010030090270812437 rbf 3 is done with : 0.6264367816091954\n",
      "SVM WITH : 0.8 0.00011174432897530451 poly 3 is done with : 0.45977011494252873\n",
      "SVM WITH : 0.8 0.00011174432897530451 sigmoid 3 is done with : 0.8275862068965517\n",
      "SVM WITH : 0.8 0.00011174432897530451 rbf 3 is done with : 0.7931034482758621\n",
      "SVM WITH : 0.8 0.1 poly 3 is done with : 0.5919540229885057\n",
      "SVM WITH : 0.8 0.1 sigmoid 3 is done with : 0.632183908045977\n",
      "SVM WITH : 0.8 0.1 rbf 3 is done with : 0.4540229885057471\n",
      "SVM WITH : 0.8 1.0 poly 3 is done with : 0.5919540229885057\n",
      "SVM WITH : 0.8 1.0 sigmoid 3 is done with : 0.5574712643678161\n",
      "SVM WITH : 0.8 1.0 rbf 3 is done with : 0.4540229885057471\n",
      "SVM WITH : 0.9 0.0010030090270812437 poly 3 is done with : 0.7011494252873564\n",
      "SVM WITH : 0.9 0.0010030090270812437 sigmoid 3 is done with : 0.8333333333333334\n",
      "SVM WITH : 0.9 0.0010030090270812437 rbf 3 is done with : 0.6666666666666666\n",
      "SVM WITH : 0.9 0.00011174432897530451 poly 3 is done with : 0.45977011494252873\n",
      "SVM WITH : 0.9 0.00011174432897530451 sigmoid 3 is done with : 0.8160919540229885\n",
      "SVM WITH : 0.9 0.00011174432897530451 rbf 3 is done with : 0.7873563218390804\n",
      "SVM WITH : 0.9 0.1 poly 3 is done with : 0.5919540229885057\n",
      "SVM WITH : 0.9 0.1 sigmoid 3 is done with : 0.632183908045977\n",
      "SVM WITH : 0.9 0.1 rbf 3 is done with : 0.4540229885057471\n",
      "SVM WITH : 0.9 1.0 poly 3 is done with : 0.5919540229885057\n",
      "SVM WITH : 0.9 1.0 sigmoid 3 is done with : 0.5574712643678161\n",
      "SVM WITH : 0.9 1.0 rbf 3 is done with : 0.4540229885057471\n",
      "SVM WITH : 1 0.0010030090270812437 poly 3 is done with : 0.6954022988505747\n",
      "SVM WITH : 1 0.0010030090270812437 sigmoid 3 is done with : 0.8390804597701149\n",
      "SVM WITH : 1 0.0010030090270812437 rbf 3 is done with : 0.6896551724137931\n",
      "SVM WITH : 1 0.00011174432897530451 poly 3 is done with : 0.47701149425287354\n",
      "SVM WITH : 1 0.00011174432897530451 sigmoid 3 is done with : 0.8103448275862069\n",
      "SVM WITH : 1 0.00011174432897530451 rbf 3 is done with : 0.7816091954022989\n",
      "SVM WITH : 1 0.1 poly 3 is done with : 0.5919540229885057\n",
      "SVM WITH : 1 0.1 sigmoid 3 is done with : 0.632183908045977\n",
      "SVM WITH : 1 0.1 rbf 3 is done with : 0.4540229885057471\n",
      "SVM WITH : 1 1.0 poly 3 is done with : 0.5919540229885057\n",
      "SVM WITH : 1 1.0 sigmoid 3 is done with : 0.5804597701149425\n",
      "SVM WITH : 1 1.0 rbf 3 is done with : 0.4540229885057471\n",
      "SVM WITH : 1.1 0.0010030090270812437 poly 3 is done with : 0.6954022988505747\n",
      "SVM WITH : 1.1 0.0010030090270812437 sigmoid 3 is done with : 0.8390804597701149\n",
      "SVM WITH : 1.1 0.0010030090270812437 rbf 3 is done with : 0.6954022988505747\n",
      "SVM WITH : 1.1 0.00011174432897530451 poly 3 is done with : 0.5114942528735632\n",
      "SVM WITH : 1.1 0.00011174432897530451 sigmoid 3 is done with : 0.8160919540229885\n",
      "SVM WITH : 1.1 0.00011174432897530451 rbf 3 is done with : 0.7931034482758621\n",
      "SVM WITH : 1.1 0.1 poly 3 is done with : 0.5919540229885057\n",
      "SVM WITH : 1.1 0.1 sigmoid 3 is done with : 0.6206896551724138\n",
      "SVM WITH : 1.1 0.1 rbf 3 is done with : 0.4540229885057471\n",
      "SVM WITH : 1.1 1.0 poly 3 is done with : 0.5919540229885057\n",
      "SVM WITH : 1.1 1.0 sigmoid 3 is done with : 0.6149425287356322\n",
      "SVM WITH : 1.1 1.0 rbf 3 is done with : 0.4540229885057471\n",
      "SVM WITH : 1.3 0.0010030090270812437 poly 3 is done with : 0.6896551724137931\n",
      "SVM WITH : 1.3 0.0010030090270812437 sigmoid 3 is done with : 0.8160919540229885\n",
      "SVM WITH : 1.3 0.0010030090270812437 rbf 3 is done with : 0.6954022988505747\n",
      "SVM WITH : 1.3 0.00011174432897530451 poly 3 is done with : 0.5517241379310345\n",
      "SVM WITH : 1.3 0.00011174432897530451 sigmoid 3 is done with : 0.8275862068965517\n",
      "SVM WITH : 1.3 0.00011174432897530451 rbf 3 is done with : 0.8045977011494253\n",
      "SVM WITH : 1.3 0.1 poly 3 is done with : 0.5919540229885057\n",
      "SVM WITH : 1.3 0.1 sigmoid 3 is done with : 0.6379310344827587\n",
      "SVM WITH : 1.3 0.1 rbf 3 is done with : 0.4540229885057471\n",
      "SVM WITH : 1.3 1.0 poly 3 is done with : 0.5919540229885057\n",
      "SVM WITH : 1.3 1.0 sigmoid 3 is done with : 0.6149425287356322\n",
      "SVM WITH : 1.3 1.0 rbf 3 is done with : 0.4540229885057471\n",
      "SVM WITH : 10 0.0010030090270812437 poly 3 is done with : 0.632183908045977\n",
      "SVM WITH : 10 0.0010030090270812437 sigmoid 3 is done with : 0.7471264367816092\n",
      "SVM WITH : 10 0.0010030090270812437 rbf 3 is done with : 0.6954022988505747\n",
      "SVM WITH : 10 0.00011174432897530451 poly 3 is done with : 0.5459770114942529\n",
      "SVM WITH : 10 0.00011174432897530451 sigmoid 3 is done with : 0.8045977011494253\n",
      "SVM WITH : 10 0.00011174432897530451 rbf 3 is done with : 0.7873563218390804\n",
      "SVM WITH : 10 0.1 poly 3 is done with : 0.5919540229885057\n",
      "SVM WITH : 10 0.1 sigmoid 3 is done with : 0.6206896551724138\n",
      "SVM WITH : 10 0.1 rbf 3 is done with : 0.4540229885057471\n",
      "SVM WITH : 10 1.0 poly 3 is done with : 0.5919540229885057\n",
      "SVM WITH : 10 1.0 sigmoid 3 is done with : 0.5517241379310345\n",
      "SVM WITH : 10 1.0 rbf 3 is done with : 0.4540229885057471\n",
      "CPU times: user 19min 41s, sys: 6.37 s, total: 19min 48s\n",
      "Wall time: 19min 47s\n"
     ]
    }
   ],
   "source": [
    "%time result_f1 = Test_Feature1()"
   ]
  },
  {
   "cell_type": "code",
   "execution_count": 11,
   "metadata": {},
   "outputs": [
    {
     "data": {
      "text/plain": [
       "563"
      ]
     },
     "execution_count": 11,
     "metadata": {},
     "output_type": "execute_result"
    }
   ],
   "source": [
    "gc.collect()"
   ]
  },
  {
   "cell_type": "code",
   "execution_count": 12,
   "metadata": {
    "scrolled": false
   },
   "outputs": [
    {
     "name": "stdout",
     "output_type": "stream",
     "text": [
      "SVM WITH : 0.1 0.0010030090270812437 poly 1 is done with : 0.7816091954022989\n",
      "SVM WITH : 0.1 0.0010030090270812437 sigmoid 1 is done with : 0.7758620689655172\n",
      "SVM WITH : 0.1 0.0010030090270812437 rbf 1 is done with : 0.4540229885057471\n",
      "SVM WITH : 0.1 0.00011174432897530451 poly 1 is done with : 0.4540229885057471\n",
      "SVM WITH : 0.1 0.00011174432897530451 sigmoid 1 is done with : 0.4540229885057471\n",
      "SVM WITH : 0.1 0.00011174432897530451 rbf 1 is done with : 0.4540229885057471\n",
      "SVM WITH : 0.1 0.1 poly 1 is done with : 0.7471264367816092\n",
      "SVM WITH : 0.1 0.1 sigmoid 1 is done with : 0.7068965517241379\n",
      "SVM WITH : 0.1 0.1 rbf 1 is done with : 0.4540229885057471\n",
      "SVM WITH : 0.1 1.0 poly 1 is done with : 0.7528735632183908\n",
      "SVM WITH : 0.1 1.0 sigmoid 1 is done with : 0.5172413793103449\n",
      "SVM WITH : 0.1 1.0 rbf 1 is done with : 0.4540229885057471\n",
      "SVM WITH : 0.8 0.0010030090270812437 poly 1 is done with : 0.7816091954022989\n",
      "SVM WITH : 0.8 0.0010030090270812437 sigmoid 1 is done with : 0.7816091954022989\n",
      "SVM WITH : 0.8 0.0010030090270812437 rbf 1 is done with : 0.6781609195402298\n",
      "SVM WITH : 0.8 0.00011174432897530451 poly 1 is done with : 0.7758620689655172\n",
      "SVM WITH : 0.8 0.00011174432897530451 sigmoid 1 is done with : 0.7758620689655172\n",
      "SVM WITH : 0.8 0.00011174432897530451 rbf 1 is done with : 0.764367816091954\n",
      "SVM WITH : 0.8 0.1 poly 1 is done with : 0.7471264367816092\n",
      "SVM WITH : 0.8 0.1 sigmoid 1 is done with : 0.5862068965517241\n",
      "SVM WITH : 0.8 0.1 rbf 1 is done with : 0.4540229885057471\n",
      "SVM WITH : 0.8 1.0 poly 1 is done with : 0.7528735632183908\n",
      "SVM WITH : 0.8 1.0 sigmoid 1 is done with : 0.5172413793103449\n",
      "SVM WITH : 0.8 1.0 rbf 1 is done with : 0.4540229885057471\n",
      "SVM WITH : 0.9 0.0010030090270812437 poly 1 is done with : 0.7816091954022989\n",
      "SVM WITH : 0.9 0.0010030090270812437 sigmoid 1 is done with : 0.7816091954022989\n",
      "SVM WITH : 0.9 0.0010030090270812437 rbf 1 is done with : 0.7068965517241379\n",
      "SVM WITH : 0.9 0.00011174432897530451 poly 1 is done with : 0.7816091954022989\n",
      "SVM WITH : 0.9 0.00011174432897530451 sigmoid 1 is done with : 0.7758620689655172\n",
      "SVM WITH : 0.9 0.00011174432897530451 rbf 1 is done with : 0.7701149425287356\n",
      "SVM WITH : 0.9 0.1 poly 1 is done with : 0.7471264367816092\n",
      "SVM WITH : 0.9 0.1 sigmoid 1 is done with : 0.5747126436781609\n",
      "SVM WITH : 0.9 0.1 rbf 1 is done with : 0.4540229885057471\n",
      "SVM WITH : 0.9 1.0 poly 1 is done with : 0.7528735632183908\n",
      "SVM WITH : 0.9 1.0 sigmoid 1 is done with : 0.5229885057471264\n",
      "SVM WITH : 0.9 1.0 rbf 1 is done with : 0.4540229885057471\n",
      "SVM WITH : 1 0.0010030090270812437 poly 1 is done with : 0.7758620689655172\n",
      "SVM WITH : 1 0.0010030090270812437 sigmoid 1 is done with : 0.7873563218390804\n",
      "SVM WITH : 1 0.0010030090270812437 rbf 1 is done with : 0.735632183908046\n",
      "SVM WITH : 1 0.00011174432897530451 poly 1 is done with : 0.7816091954022989\n",
      "SVM WITH : 1 0.00011174432897530451 sigmoid 1 is done with : 0.7873563218390804\n",
      "SVM WITH : 1 0.00011174432897530451 rbf 1 is done with : 0.7758620689655172\n",
      "SVM WITH : 1 0.1 poly 1 is done with : 0.7471264367816092\n",
      "SVM WITH : 1 0.1 sigmoid 1 is done with : 0.5804597701149425\n",
      "SVM WITH : 1 0.1 rbf 1 is done with : 0.4540229885057471\n",
      "SVM WITH : 1 1.0 poly 1 is done with : 0.7528735632183908\n",
      "SVM WITH : 1 1.0 sigmoid 1 is done with : 0.5287356321839081\n",
      "SVM WITH : 1 1.0 rbf 1 is done with : 0.4540229885057471\n",
      "SVM WITH : 1.1 0.0010030090270812437 poly 1 is done with : 0.7701149425287356\n",
      "SVM WITH : 1.1 0.0010030090270812437 sigmoid 1 is done with : 0.7816091954022989\n",
      "SVM WITH : 1.1 0.0010030090270812437 rbf 1 is done with : 0.735632183908046\n",
      "SVM WITH : 1.1 0.00011174432897530451 poly 1 is done with : 0.7873563218390804\n",
      "SVM WITH : 1.1 0.00011174432897530451 sigmoid 1 is done with : 0.7931034482758621\n",
      "SVM WITH : 1.1 0.00011174432897530451 rbf 1 is done with : 0.7873563218390804\n",
      "SVM WITH : 1.1 0.1 poly 1 is done with : 0.7471264367816092\n",
      "SVM WITH : 1.1 0.1 sigmoid 1 is done with : 0.5632183908045977\n",
      "SVM WITH : 1.1 0.1 rbf 1 is done with : 0.4540229885057471\n",
      "SVM WITH : 1.1 1.0 poly 1 is done with : 0.7528735632183908\n",
      "SVM WITH : 1.1 1.0 sigmoid 1 is done with : 0.5287356321839081\n",
      "SVM WITH : 1.1 1.0 rbf 1 is done with : 0.4540229885057471\n",
      "SVM WITH : 1.3 0.0010030090270812437 poly 1 is done with : 0.7701149425287356\n",
      "SVM WITH : 1.3 0.0010030090270812437 sigmoid 1 is done with : 0.7298850574712644\n",
      "SVM WITH : 1.3 0.0010030090270812437 rbf 1 is done with : 0.735632183908046\n",
      "SVM WITH : 1.3 0.00011174432897530451 poly 1 is done with : 0.7988505747126436\n",
      "SVM WITH : 1.3 0.00011174432897530451 sigmoid 1 is done with : 0.7873563218390804\n",
      "SVM WITH : 1.3 0.00011174432897530451 rbf 1 is done with : 0.7816091954022989\n",
      "SVM WITH : 1.3 0.1 poly 1 is done with : 0.7471264367816092\n",
      "SVM WITH : 1.3 0.1 sigmoid 1 is done with : 0.5747126436781609\n",
      "SVM WITH : 1.3 0.1 rbf 1 is done with : 0.4540229885057471\n",
      "SVM WITH : 1.3 1.0 poly 1 is done with : 0.7528735632183908\n",
      "SVM WITH : 1.3 1.0 sigmoid 1 is done with : 0.5172413793103449\n",
      "SVM WITH : 1.3 1.0 rbf 1 is done with : 0.4540229885057471\n",
      "SVM WITH : 10 0.0010030090270812437 poly 1 is done with : 0.7528735632183908\n",
      "SVM WITH : 10 0.0010030090270812437 sigmoid 1 is done with : 0.6436781609195402\n",
      "SVM WITH : 10 0.0010030090270812437 rbf 1 is done with : 0.735632183908046\n",
      "SVM WITH : 10 0.00011174432897530451 poly 1 is done with : 0.7701149425287356\n",
      "SVM WITH : 10 0.00011174432897530451 sigmoid 1 is done with : 0.735632183908046\n",
      "SVM WITH : 10 0.00011174432897530451 rbf 1 is done with : 0.7816091954022989\n",
      "SVM WITH : 10 0.1 poly 1 is done with : 0.7471264367816092\n",
      "SVM WITH : 10 0.1 sigmoid 1 is done with : 0.5632183908045977\n",
      "SVM WITH : 10 0.1 rbf 1 is done with : 0.4540229885057471\n",
      "SVM WITH : 10 1.0 poly 1 is done with : 0.7528735632183908\n",
      "SVM WITH : 10 1.0 sigmoid 1 is done with : 0.5172413793103449\n",
      "SVM WITH : 10 1.0 rbf 1 is done with : 0.4540229885057471\n",
      "SVM WITH : 0.1 0.0010030090270812437 poly 3 is done with : 0.6954022988505747\n",
      "SVM WITH : 0.1 0.0010030090270812437 sigmoid 3 is done with : 0.7758620689655172\n",
      "SVM WITH : 0.1 0.0010030090270812437 rbf 3 is done with : 0.4540229885057471\n",
      "SVM WITH : 0.1 0.00011174432897530451 poly 3 is done with : 0.4540229885057471\n",
      "SVM WITH : 0.1 0.00011174432897530451 sigmoid 3 is done with : 0.4540229885057471\n",
      "SVM WITH : 0.1 0.00011174432897530451 rbf 3 is done with : 0.4540229885057471\n",
      "SVM WITH : 0.1 0.1 poly 3 is done with : 0.5402298850574713\n",
      "SVM WITH : 0.1 0.1 sigmoid 3 is done with : 0.7068965517241379\n",
      "SVM WITH : 0.1 0.1 rbf 3 is done with : 0.4540229885057471\n",
      "SVM WITH : 0.1 1.0 poly 3 is done with : 0.5402298850574713\n",
      "SVM WITH : 0.1 1.0 sigmoid 3 is done with : 0.5172413793103449\n",
      "SVM WITH : 0.1 1.0 rbf 3 is done with : 0.4540229885057471\n",
      "SVM WITH : 0.8 0.0010030090270812437 poly 3 is done with : 0.6206896551724138\n",
      "SVM WITH : 0.8 0.0010030090270812437 sigmoid 3 is done with : 0.7816091954022989\n",
      "SVM WITH : 0.8 0.0010030090270812437 rbf 3 is done with : 0.6781609195402298\n",
      "SVM WITH : 0.8 0.00011174432897530451 poly 3 is done with : 0.4540229885057471\n",
      "SVM WITH : 0.8 0.00011174432897530451 sigmoid 3 is done with : 0.7758620689655172\n",
      "SVM WITH : 0.8 0.00011174432897530451 rbf 3 is done with : 0.764367816091954\n",
      "SVM WITH : 0.8 0.1 poly 3 is done with : 0.5402298850574713\n",
      "SVM WITH : 0.8 0.1 sigmoid 3 is done with : 0.5862068965517241\n",
      "SVM WITH : 0.8 0.1 rbf 3 is done with : 0.4540229885057471\n",
      "SVM WITH : 0.8 1.0 poly 3 is done with : 0.5402298850574713\n",
      "SVM WITH : 0.8 1.0 sigmoid 3 is done with : 0.5172413793103449\n",
      "SVM WITH : 0.8 1.0 rbf 3 is done with : 0.4540229885057471\n",
      "SVM WITH : 0.9 0.0010030090270812437 poly 3 is done with : 0.6264367816091954\n",
      "SVM WITH : 0.9 0.0010030090270812437 sigmoid 3 is done with : 0.7816091954022989\n",
      "SVM WITH : 0.9 0.0010030090270812437 rbf 3 is done with : 0.7068965517241379\n",
      "SVM WITH : 0.9 0.00011174432897530451 poly 3 is done with : 0.4540229885057471\n",
      "SVM WITH : 0.9 0.00011174432897530451 sigmoid 3 is done with : 0.7758620689655172\n",
      "SVM WITH : 0.9 0.00011174432897530451 rbf 3 is done with : 0.7701149425287356\n",
      "SVM WITH : 0.9 0.1 poly 3 is done with : 0.5402298850574713\n",
      "SVM WITH : 0.9 0.1 sigmoid 3 is done with : 0.5747126436781609\n",
      "SVM WITH : 0.9 0.1 rbf 3 is done with : 0.4540229885057471\n",
      "SVM WITH : 0.9 1.0 poly 3 is done with : 0.5402298850574713\n",
      "SVM WITH : 0.9 1.0 sigmoid 3 is done with : 0.5229885057471264\n",
      "SVM WITH : 0.9 1.0 rbf 3 is done with : 0.4540229885057471\n",
      "SVM WITH : 1 0.0010030090270812437 poly 3 is done with : 0.6264367816091954\n",
      "SVM WITH : 1 0.0010030090270812437 sigmoid 3 is done with : 0.7873563218390804\n",
      "SVM WITH : 1 0.0010030090270812437 rbf 3 is done with : 0.735632183908046\n",
      "SVM WITH : 1 0.00011174432897530451 poly 3 is done with : 0.4540229885057471\n",
      "SVM WITH : 1 0.00011174432897530451 sigmoid 3 is done with : 0.7873563218390804\n",
      "SVM WITH : 1 0.00011174432897530451 rbf 3 is done with : 0.7758620689655172\n",
      "SVM WITH : 1 0.1 poly 3 is done with : 0.5402298850574713\n",
      "SVM WITH : 1 0.1 sigmoid 3 is done with : 0.5804597701149425\n",
      "SVM WITH : 1 0.1 rbf 3 is done with : 0.4540229885057471\n",
      "SVM WITH : 1 1.0 poly 3 is done with : 0.5402298850574713\n",
      "SVM WITH : 1 1.0 sigmoid 3 is done with : 0.5287356321839081\n",
      "SVM WITH : 1 1.0 rbf 3 is done with : 0.4540229885057471\n",
      "SVM WITH : 1.1 0.0010030090270812437 poly 3 is done with : 0.6264367816091954\n",
      "SVM WITH : 1.1 0.0010030090270812437 sigmoid 3 is done with : 0.7816091954022989\n",
      "SVM WITH : 1.1 0.0010030090270812437 rbf 3 is done with : 0.735632183908046\n",
      "SVM WITH : 1.1 0.00011174432897530451 poly 3 is done with : 0.4540229885057471\n",
      "SVM WITH : 1.1 0.00011174432897530451 sigmoid 3 is done with : 0.7931034482758621\n",
      "SVM WITH : 1.1 0.00011174432897530451 rbf 3 is done with : 0.7873563218390804\n",
      "SVM WITH : 1.1 0.1 poly 3 is done with : 0.5402298850574713\n",
      "SVM WITH : 1.1 0.1 sigmoid 3 is done with : 0.5632183908045977\n",
      "SVM WITH : 1.1 0.1 rbf 3 is done with : 0.4540229885057471\n",
      "SVM WITH : 1.1 1.0 poly 3 is done with : 0.5402298850574713\n",
      "SVM WITH : 1.1 1.0 sigmoid 3 is done with : 0.5287356321839081\n",
      "SVM WITH : 1.1 1.0 rbf 3 is done with : 0.4540229885057471\n",
      "SVM WITH : 1.3 0.0010030090270812437 poly 3 is done with : 0.6264367816091954\n",
      "SVM WITH : 1.3 0.0010030090270812437 sigmoid 3 is done with : 0.7298850574712644\n",
      "SVM WITH : 1.3 0.0010030090270812437 rbf 3 is done with : 0.735632183908046\n",
      "SVM WITH : 1.3 0.00011174432897530451 poly 3 is done with : 0.4540229885057471\n",
      "SVM WITH : 1.3 0.00011174432897530451 sigmoid 3 is done with : 0.7873563218390804\n",
      "SVM WITH : 1.3 0.00011174432897530451 rbf 3 is done with : 0.7816091954022989\n",
      "SVM WITH : 1.3 0.1 poly 3 is done with : 0.5402298850574713\n",
      "SVM WITH : 1.3 0.1 sigmoid 3 is done with : 0.5747126436781609\n",
      "SVM WITH : 1.3 0.1 rbf 3 is done with : 0.4540229885057471\n",
      "SVM WITH : 1.3 1.0 poly 3 is done with : 0.5402298850574713\n",
      "SVM WITH : 1.3 1.0 sigmoid 3 is done with : 0.5172413793103449\n",
      "SVM WITH : 1.3 1.0 rbf 3 is done with : 0.4540229885057471\n",
      "SVM WITH : 10 0.0010030090270812437 poly 3 is done with : 0.5804597701149425\n",
      "SVM WITH : 10 0.0010030090270812437 sigmoid 3 is done with : 0.6436781609195402\n",
      "SVM WITH : 10 0.0010030090270812437 rbf 3 is done with : 0.735632183908046\n",
      "SVM WITH : 10 0.00011174432897530451 poly 3 is done with : 0.5632183908045977\n",
      "SVM WITH : 10 0.00011174432897530451 sigmoid 3 is done with : 0.735632183908046\n",
      "SVM WITH : 10 0.00011174432897530451 rbf 3 is done with : 0.7816091954022989\n",
      "SVM WITH : 10 0.1 poly 3 is done with : 0.5402298850574713\n",
      "SVM WITH : 10 0.1 sigmoid 3 is done with : 0.5632183908045977\n",
      "SVM WITH : 10 0.1 rbf 3 is done with : 0.4540229885057471\n",
      "SVM WITH : 10 1.0 poly 3 is done with : 0.5402298850574713\n",
      "SVM WITH : 10 1.0 sigmoid 3 is done with : 0.5172413793103449\n",
      "SVM WITH : 10 1.0 rbf 3 is done with : 0.4540229885057471\n",
      "CPU times: user 19min 24s, sys: 5.13 s, total: 19min 29s\n",
      "Wall time: 19min 28s\n"
     ]
    }
   ],
   "source": [
    "%time result_f2 = Test_Feature2()"
   ]
  },
  {
   "cell_type": "code",
   "execution_count": 13,
   "metadata": {},
   "outputs": [
    {
     "data": {
      "text/plain": [
       "14"
      ]
     },
     "execution_count": 13,
     "metadata": {},
     "output_type": "execute_result"
    }
   ],
   "source": [
    "gc.collect()"
   ]
  },
  {
   "cell_type": "code",
   "execution_count": 14,
   "metadata": {
    "scrolled": false
   },
   "outputs": [
    {
     "name": "stdout",
     "output_type": "stream",
     "text": [
      "SVM WITH : 0.1 0.0010030090270812437 poly 1 is done with : 0.8160919540229885\n",
      "SVM WITH : 0.1 0.0010030090270812437 sigmoid 1 is done with : 0.8103448275862069\n",
      "SVM WITH : 0.1 0.0010030090270812437 rbf 1 is done with : 0.4540229885057471\n",
      "SVM WITH : 0.1 0.00011174432897530451 poly 1 is done with : 0.46551724137931033\n",
      "SVM WITH : 0.1 0.00011174432897530451 sigmoid 1 is done with : 0.4540229885057471\n",
      "SVM WITH : 0.1 0.00011174432897530451 rbf 1 is done with : 0.47701149425287354\n",
      "SVM WITH : 0.1 0.1 poly 1 is done with : 0.7931034482758621\n",
      "SVM WITH : 0.1 0.1 sigmoid 1 is done with : 0.6839080459770115\n",
      "SVM WITH : 0.1 0.1 rbf 1 is done with : 0.4540229885057471\n",
      "SVM WITH : 0.1 1.0 poly 1 is done with : 0.7931034482758621\n",
      "SVM WITH : 0.1 1.0 sigmoid 1 is done with : 0.4540229885057471\n",
      "SVM WITH : 0.1 1.0 rbf 1 is done with : 0.4540229885057471\n",
      "SVM WITH : 0.8 0.0010030090270812437 poly 1 is done with : 0.8045977011494253\n",
      "SVM WITH : 0.8 0.0010030090270812437 sigmoid 1 is done with : 0.7701149425287356\n",
      "SVM WITH : 0.8 0.0010030090270812437 rbf 1 is done with : 0.47126436781609193\n",
      "SVM WITH : 0.8 0.00011174432897530451 poly 1 is done with : 0.8218390804597702\n",
      "SVM WITH : 0.8 0.00011174432897530451 sigmoid 1 is done with : 0.8333333333333334\n",
      "SVM WITH : 0.8 0.00011174432897530451 rbf 1 is done with : 0.764367816091954\n",
      "SVM WITH : 0.8 0.1 poly 1 is done with : 0.7931034482758621\n",
      "SVM WITH : 0.8 0.1 sigmoid 1 is done with : 0.5977011494252874\n",
      "SVM WITH : 0.8 0.1 rbf 1 is done with : 0.4540229885057471\n",
      "SVM WITH : 0.8 1.0 poly 1 is done with : 0.7931034482758621\n",
      "SVM WITH : 0.8 1.0 sigmoid 1 is done with : 0.4827586206896552\n",
      "SVM WITH : 0.8 1.0 rbf 1 is done with : 0.4540229885057471\n",
      "SVM WITH : 0.9 0.0010030090270812437 poly 1 is done with : 0.8045977011494253\n",
      "SVM WITH : 0.9 0.0010030090270812437 sigmoid 1 is done with : 0.7873563218390804\n",
      "SVM WITH : 0.9 0.0010030090270812437 rbf 1 is done with : 0.5172413793103449\n",
      "SVM WITH : 0.9 0.00011174432897530451 poly 1 is done with : 0.8160919540229885\n",
      "SVM WITH : 0.9 0.00011174432897530451 sigmoid 1 is done with : 0.8333333333333334\n",
      "SVM WITH : 0.9 0.00011174432897530451 rbf 1 is done with : 0.7758620689655172\n",
      "SVM WITH : 0.9 0.1 poly 1 is done with : 0.7931034482758621\n",
      "SVM WITH : 0.9 0.1 sigmoid 1 is done with : 0.5919540229885057\n",
      "SVM WITH : 0.9 0.1 rbf 1 is done with : 0.4540229885057471\n",
      "SVM WITH : 0.9 1.0 poly 1 is done with : 0.7931034482758621\n",
      "SVM WITH : 0.9 1.0 sigmoid 1 is done with : 0.4885057471264368\n",
      "SVM WITH : 0.9 1.0 rbf 1 is done with : 0.4540229885057471\n",
      "SVM WITH : 1 0.0010030090270812437 poly 1 is done with : 0.7988505747126436\n",
      "SVM WITH : 1 0.0010030090270812437 sigmoid 1 is done with : 0.7816091954022989\n",
      "SVM WITH : 1 0.0010030090270812437 rbf 1 is done with : 0.6436781609195402\n",
      "SVM WITH : 1 0.00011174432897530451 poly 1 is done with : 0.8160919540229885\n",
      "SVM WITH : 1 0.00011174432897530451 sigmoid 1 is done with : 0.8390804597701149\n",
      "SVM WITH : 1 0.00011174432897530451 rbf 1 is done with : 0.7816091954022989\n",
      "SVM WITH : 1 0.1 poly 1 is done with : 0.7931034482758621\n",
      "SVM WITH : 1 0.1 sigmoid 1 is done with : 0.5977011494252874\n",
      "SVM WITH : 1 0.1 rbf 1 is done with : 0.4540229885057471\n",
      "SVM WITH : 1 1.0 poly 1 is done with : 0.7931034482758621\n",
      "SVM WITH : 1 1.0 sigmoid 1 is done with : 0.47701149425287354\n",
      "SVM WITH : 1 1.0 rbf 1 is done with : 0.4540229885057471\n",
      "SVM WITH : 1.1 0.0010030090270812437 poly 1 is done with : 0.7988505747126436\n",
      "SVM WITH : 1.1 0.0010030090270812437 sigmoid 1 is done with : 0.764367816091954\n",
      "SVM WITH : 1.1 0.0010030090270812437 rbf 1 is done with : 0.6666666666666666\n",
      "SVM WITH : 1.1 0.00011174432897530451 poly 1 is done with : 0.8160919540229885\n",
      "SVM WITH : 1.1 0.00011174432897530451 sigmoid 1 is done with : 0.8390804597701149\n",
      "SVM WITH : 1.1 0.00011174432897530451 rbf 1 is done with : 0.7873563218390804\n",
      "SVM WITH : 1.1 0.1 poly 1 is done with : 0.7931034482758621\n",
      "SVM WITH : 1.1 0.1 sigmoid 1 is done with : 0.5977011494252874\n",
      "SVM WITH : 1.1 0.1 rbf 1 is done with : 0.4540229885057471\n",
      "SVM WITH : 1.1 1.0 poly 1 is done with : 0.7931034482758621\n",
      "SVM WITH : 1.1 1.0 sigmoid 1 is done with : 0.4885057471264368\n",
      "SVM WITH : 1.1 1.0 rbf 1 is done with : 0.4540229885057471\n",
      "SVM WITH : 1.3 0.0010030090270812437 poly 1 is done with : 0.7988505747126436\n",
      "SVM WITH : 1.3 0.0010030090270812437 sigmoid 1 is done with : 0.7701149425287356\n",
      "SVM WITH : 1.3 0.0010030090270812437 rbf 1 is done with : 0.6666666666666666\n",
      "SVM WITH : 1.3 0.00011174432897530451 poly 1 is done with : 0.8160919540229885\n",
      "SVM WITH : 1.3 0.00011174432897530451 sigmoid 1 is done with : 0.8333333333333334\n",
      "SVM WITH : 1.3 0.00011174432897530451 rbf 1 is done with : 0.7816091954022989\n",
      "SVM WITH : 1.3 0.1 poly 1 is done with : 0.7931034482758621\n",
      "SVM WITH : 1.3 0.1 sigmoid 1 is done with : 0.603448275862069\n",
      "SVM WITH : 1.3 0.1 rbf 1 is done with : 0.4540229885057471\n",
      "SVM WITH : 1.3 1.0 poly 1 is done with : 0.7931034482758621\n",
      "SVM WITH : 1.3 1.0 sigmoid 1 is done with : 0.4827586206896552\n",
      "SVM WITH : 1.3 1.0 rbf 1 is done with : 0.4540229885057471\n",
      "SVM WITH : 10 0.0010030090270812437 poly 1 is done with : 0.7931034482758621\n",
      "SVM WITH : 10 0.0010030090270812437 sigmoid 1 is done with : 0.7068965517241379\n",
      "SVM WITH : 10 0.0010030090270812437 rbf 1 is done with : 0.6666666666666666\n",
      "SVM WITH : 10 0.00011174432897530451 poly 1 is done with : 0.7988505747126436\n",
      "SVM WITH : 10 0.00011174432897530451 sigmoid 1 is done with : 0.7126436781609196\n",
      "SVM WITH : 10 0.00011174432897530451 rbf 1 is done with : 0.7931034482758621\n",
      "SVM WITH : 10 0.1 poly 1 is done with : 0.7931034482758621\n",
      "SVM WITH : 10 0.1 sigmoid 1 is done with : 0.5919540229885057\n",
      "SVM WITH : 10 0.1 rbf 1 is done with : 0.4540229885057471\n",
      "SVM WITH : 10 1.0 poly 1 is done with : 0.7931034482758621\n",
      "SVM WITH : 10 1.0 sigmoid 1 is done with : 0.5689655172413793\n",
      "SVM WITH : 10 1.0 rbf 1 is done with : 0.4540229885057471\n",
      "SVM WITH : 0.1 0.0010030090270812437 poly 3 is done with : 0.6954022988505747\n",
      "SVM WITH : 0.1 0.0010030090270812437 sigmoid 3 is done with : 0.8103448275862069\n",
      "SVM WITH : 0.1 0.0010030090270812437 rbf 3 is done with : 0.4540229885057471\n",
      "SVM WITH : 0.1 0.00011174432897530451 poly 3 is done with : 0.4540229885057471\n",
      "SVM WITH : 0.1 0.00011174432897530451 sigmoid 3 is done with : 0.4540229885057471\n",
      "SVM WITH : 0.1 0.00011174432897530451 rbf 3 is done with : 0.47701149425287354\n",
      "SVM WITH : 0.1 0.1 poly 3 is done with : 0.5517241379310345\n",
      "SVM WITH : 0.1 0.1 sigmoid 3 is done with : 0.6839080459770115\n",
      "SVM WITH : 0.1 0.1 rbf 3 is done with : 0.4540229885057471\n",
      "SVM WITH : 0.1 1.0 poly 3 is done with : 0.5517241379310345\n",
      "SVM WITH : 0.1 1.0 sigmoid 3 is done with : 0.4540229885057471\n",
      "SVM WITH : 0.1 1.0 rbf 3 is done with : 0.4540229885057471\n",
      "SVM WITH : 0.8 0.0010030090270812437 poly 3 is done with : 0.5804597701149425\n",
      "SVM WITH : 0.8 0.0010030090270812437 sigmoid 3 is done with : 0.7701149425287356\n",
      "SVM WITH : 0.8 0.0010030090270812437 rbf 3 is done with : 0.47126436781609193\n",
      "SVM WITH : 0.8 0.00011174432897530451 poly 3 is done with : 0.5517241379310345\n",
      "SVM WITH : 0.8 0.00011174432897530451 sigmoid 3 is done with : 0.8333333333333334\n",
      "SVM WITH : 0.8 0.00011174432897530451 rbf 3 is done with : 0.764367816091954\n",
      "SVM WITH : 0.8 0.1 poly 3 is done with : 0.5517241379310345\n",
      "SVM WITH : 0.8 0.1 sigmoid 3 is done with : 0.5977011494252874\n",
      "SVM WITH : 0.8 0.1 rbf 3 is done with : 0.4540229885057471\n",
      "SVM WITH : 0.8 1.0 poly 3 is done with : 0.5517241379310345\n",
      "SVM WITH : 0.8 1.0 sigmoid 3 is done with : 0.4827586206896552\n",
      "SVM WITH : 0.8 1.0 rbf 3 is done with : 0.4540229885057471\n",
      "SVM WITH : 0.9 0.0010030090270812437 poly 3 is done with : 0.5747126436781609\n",
      "SVM WITH : 0.9 0.0010030090270812437 sigmoid 3 is done with : 0.7873563218390804\n",
      "SVM WITH : 0.9 0.0010030090270812437 rbf 3 is done with : 0.5172413793103449\n",
      "SVM WITH : 0.9 0.00011174432897530451 poly 3 is done with : 0.5517241379310345\n",
      "SVM WITH : 0.9 0.00011174432897530451 sigmoid 3 is done with : 0.8333333333333334\n",
      "SVM WITH : 0.9 0.00011174432897530451 rbf 3 is done with : 0.7758620689655172\n",
      "SVM WITH : 0.9 0.1 poly 3 is done with : 0.5517241379310345\n",
      "SVM WITH : 0.9 0.1 sigmoid 3 is done with : 0.5919540229885057\n",
      "SVM WITH : 0.9 0.1 rbf 3 is done with : 0.4540229885057471\n",
      "SVM WITH : 0.9 1.0 poly 3 is done with : 0.5517241379310345\n",
      "SVM WITH : 0.9 1.0 sigmoid 3 is done with : 0.4885057471264368\n",
      "SVM WITH : 0.9 1.0 rbf 3 is done with : 0.4540229885057471\n",
      "SVM WITH : 1 0.0010030090270812437 poly 3 is done with : 0.5747126436781609\n",
      "SVM WITH : 1 0.0010030090270812437 sigmoid 3 is done with : 0.7816091954022989\n",
      "SVM WITH : 1 0.0010030090270812437 rbf 3 is done with : 0.6436781609195402\n",
      "SVM WITH : 1 0.00011174432897530451 poly 3 is done with : 0.5517241379310345\n",
      "SVM WITH : 1 0.00011174432897530451 sigmoid 3 is done with : 0.8390804597701149\n",
      "SVM WITH : 1 0.00011174432897530451 rbf 3 is done with : 0.7816091954022989\n",
      "SVM WITH : 1 0.1 poly 3 is done with : 0.5517241379310345\n",
      "SVM WITH : 1 0.1 sigmoid 3 is done with : 0.5977011494252874\n",
      "SVM WITH : 1 0.1 rbf 3 is done with : 0.4540229885057471\n",
      "SVM WITH : 1 1.0 poly 3 is done with : 0.5517241379310345\n",
      "SVM WITH : 1 1.0 sigmoid 3 is done with : 0.47701149425287354\n",
      "SVM WITH : 1 1.0 rbf 3 is done with : 0.4540229885057471\n",
      "SVM WITH : 1.1 0.0010030090270812437 poly 3 is done with : 0.5747126436781609\n",
      "SVM WITH : 1.1 0.0010030090270812437 sigmoid 3 is done with : 0.764367816091954\n",
      "SVM WITH : 1.1 0.0010030090270812437 rbf 3 is done with : 0.6666666666666666\n",
      "SVM WITH : 1.1 0.00011174432897530451 poly 3 is done with : 0.5574712643678161\n",
      "SVM WITH : 1.1 0.00011174432897530451 sigmoid 3 is done with : 0.8390804597701149\n",
      "SVM WITH : 1.1 0.00011174432897530451 rbf 3 is done with : 0.7873563218390804\n",
      "SVM WITH : 1.1 0.1 poly 3 is done with : 0.5517241379310345\n",
      "SVM WITH : 1.1 0.1 sigmoid 3 is done with : 0.5977011494252874\n",
      "SVM WITH : 1.1 0.1 rbf 3 is done with : 0.4540229885057471\n",
      "SVM WITH : 1.1 1.0 poly 3 is done with : 0.5517241379310345\n",
      "SVM WITH : 1.1 1.0 sigmoid 3 is done with : 0.4885057471264368\n",
      "SVM WITH : 1.1 1.0 rbf 3 is done with : 0.4540229885057471\n",
      "SVM WITH : 1.3 0.0010030090270812437 poly 3 is done with : 0.5747126436781609\n",
      "SVM WITH : 1.3 0.0010030090270812437 sigmoid 3 is done with : 0.7701149425287356\n",
      "SVM WITH : 1.3 0.0010030090270812437 rbf 3 is done with : 0.6666666666666666\n",
      "SVM WITH : 1.3 0.00011174432897530451 poly 3 is done with : 0.5574712643678161\n",
      "SVM WITH : 1.3 0.00011174432897530451 sigmoid 3 is done with : 0.8333333333333334\n",
      "SVM WITH : 1.3 0.00011174432897530451 rbf 3 is done with : 0.7816091954022989\n",
      "SVM WITH : 1.3 0.1 poly 3 is done with : 0.5517241379310345\n",
      "SVM WITH : 1.3 0.1 sigmoid 3 is done with : 0.603448275862069\n",
      "SVM WITH : 1.3 0.1 rbf 3 is done with : 0.4540229885057471\n",
      "SVM WITH : 1.3 1.0 poly 3 is done with : 0.5517241379310345\n",
      "SVM WITH : 1.3 1.0 sigmoid 3 is done with : 0.4827586206896552\n",
      "SVM WITH : 1.3 1.0 rbf 3 is done with : 0.4540229885057471\n",
      "SVM WITH : 10 0.0010030090270812437 poly 3 is done with : 0.5517241379310345\n",
      "SVM WITH : 10 0.0010030090270812437 sigmoid 3 is done with : 0.7068965517241379\n",
      "SVM WITH : 10 0.0010030090270812437 rbf 3 is done with : 0.6666666666666666\n",
      "SVM WITH : 10 0.00011174432897530451 poly 3 is done with : 0.5862068965517241\n",
      "SVM WITH : 10 0.00011174432897530451 sigmoid 3 is done with : 0.7126436781609196\n",
      "SVM WITH : 10 0.00011174432897530451 rbf 3 is done with : 0.7931034482758621\n",
      "SVM WITH : 10 0.1 poly 3 is done with : 0.5517241379310345\n",
      "SVM WITH : 10 0.1 sigmoid 3 is done with : 0.5919540229885057\n",
      "SVM WITH : 10 0.1 rbf 3 is done with : 0.4540229885057471\n",
      "SVM WITH : 10 1.0 poly 3 is done with : 0.5517241379310345\n",
      "SVM WITH : 10 1.0 sigmoid 3 is done with : 0.5689655172413793\n",
      "SVM WITH : 10 1.0 rbf 3 is done with : 0.4540229885057471\n",
      "CPU times: user 39min 21s, sys: 13.7 s, total: 39min 34s\n",
      "Wall time: 39min 34s\n"
     ]
    }
   ],
   "source": [
    "%time result_non = Test_Default_Feature()"
   ]
  },
  {
   "cell_type": "code",
   "execution_count": 15,
   "metadata": {},
   "outputs": [
    {
     "data": {
      "text/plain": [
       "14"
      ]
     },
     "execution_count": 15,
     "metadata": {},
     "output_type": "execute_result"
    }
   ],
   "source": [
    "gc.collect()"
   ]
  },
  {
   "cell_type": "markdown",
   "metadata": {},
   "source": [
    "find model from each set which performed best on validation set"
   ]
  },
  {
   "cell_type": "code",
   "execution_count": 6,
   "metadata": {
    "collapsed": true
   },
   "outputs": [],
   "source": [
    "with open('result_1.txt','rb') as fl:\n",
    "     result_f1 = pickle.load(fl)\n",
    "with open('result_2.txt','rb') as fl:\n",
    "     result_f2 = pickle.load(fl)\n",
    "with open('result_non.txt','rb') as fl:\n",
    "     result_non = pickle.load(fl)"
   ]
  },
  {
   "cell_type": "code",
   "execution_count": 7,
   "metadata": {},
   "outputs": [],
   "source": [
    "f1_best_index = result_f1[:,4].argmax()\n",
    "f2_best_index = result_f2[:,4].argmax()\n",
    "non_best_index = result_non[:,4].argmax()"
   ]
  },
  {
   "cell_type": "markdown",
   "metadata": {},
   "source": [
    "create model with selected parameter"
   ]
  },
  {
   "cell_type": "code",
   "execution_count": 8,
   "metadata": {
    "collapsed": true
   },
   "outputs": [],
   "source": [
    "f1_best_Model = SVC(C= np.float(result_f1[f1_best_index][0]),\n",
    "                    gamma= np.float(result_f1[f1_best_index][1]),\n",
    "                    kernel = str(result_f1[f1_best_index][2]),\n",
    "                    degree = np.float(result_f1[f1_best_index][3]));\n",
    "f2_best_Model = SVC(C=np.float(result_f2[f2_best_index][0]),\n",
    "                    gamma= np.float(result_f2[f2_best_index][1]),\n",
    "                    kernel = str(result_f2[f2_best_index][2]),\n",
    "                    degree = np.float(result_f2[f2_best_index][3]));\n",
    "non_best_Model = SVC(C=np.float(result_non[non_best_index][0]),\n",
    "                    gamma= np.float(result_non[non_best_index][1]),\n",
    "                    kernel = str(result_non[non_best_index][2]),\n",
    "                    degree = np.float(result_non[non_best_index][3]));"
   ]
  },
  {
   "cell_type": "markdown",
   "metadata": {},
   "source": [
    "#### train model on features which was filter with mask 1"
   ]
  },
  {
   "cell_type": "code",
   "execution_count": 9,
   "metadata": {},
   "outputs": [
    {
     "name": "stdout",
     "output_type": "stream",
     "text": [
      "Accuracy of Feature 1 :  0.817142857143\n"
     ]
    }
   ],
   "source": [
    "label_train = train['class']\n",
    "selected_feature = np.nonzero(feature_mask1);\n",
    "New_train = train.iloc[:,selected_feature[0]]\n",
    "New_test = test.iloc[:,selected_feature[0]]\n",
    "label_test = test['class']\n",
    "\n",
    "f1_best_Model.fit(New_train,label_train.values.ravel())\n",
    "pred = f1_best_Model.predict(New_test)\n",
    "accuracy = accuracy_score(pred,label_test.values.ravel())\n",
    "print(\"Accuracy of Feature 1 : \",accuracy)"
   ]
  },
  {
   "cell_type": "markdown",
   "metadata": {},
   "source": [
    "#### train model on features which was filter with mask 2"
   ]
  },
  {
   "cell_type": "code",
   "execution_count": 10,
   "metadata": {},
   "outputs": [
    {
     "name": "stdout",
     "output_type": "stream",
     "text": [
      "Accuracy of Feature 2 :  0.851428571429\n"
     ]
    }
   ],
   "source": [
    "selected_feature = np.nonzero(feature_mask2);\n",
    "New_train = train.iloc[:,selected_feature[0]]\n",
    "New_test = test.iloc[:,selected_feature[0]]\n",
    "label_test = test['class']\n",
    "\n",
    "f2_best_Model.fit(New_train,label_train.values.ravel())\n",
    "pred = f2_best_Model.predict(New_test)\n",
    "accuracy = accuracy_score(pred,label_test.values.ravel())\n",
    "print(\"Accuracy of Feature 2 : \",accuracy)"
   ]
  },
  {
   "cell_type": "markdown",
   "metadata": {},
   "source": [
    "آموزش مدل بر روی دادگان اصلی و بدون تغییر و بدست آوردن دقت بر روی مجموعه سنجش"
   ]
  },
  {
   "cell_type": "markdown",
   "metadata": {},
   "source": [
    "#### train model on train data an evalute it on test set"
   ]
  },
  {
   "cell_type": "code",
   "execution_count": 21,
   "metadata": {},
   "outputs": [
    {
     "name": "stdout",
     "output_type": "stream",
     "text": [
      "Accuracy of Default Feature :  0.834285714286\n"
     ]
    }
   ],
   "source": [
    "New_train = train.ix[:,train.columns != 'class'];\n",
    "New_test = test.ix[:,train.columns != 'class'];\n",
    "label_test = test['class']\n",
    "\n",
    "non_best_Model.fit(New_train,label_train.values.ravel())\n",
    "pred = non_best_Model.predict(New_test)\n",
    "accuracy = accuracy_score(pred,label_test.values.ravel())\n",
    "print(\"Accuracy of Default Feature : \",accuracy)"
   ]
  },
  {
   "cell_type": "code",
   "execution_count": 26,
   "metadata": {
    "scrolled": true
   },
   "outputs": [],
   "source": [
    "with open('result_1.txt','wb') as fl:\n",
    "    pickle.dump(result_f1,fl)"
   ]
  },
  {
   "cell_type": "code",
   "execution_count": 27,
   "metadata": {
    "scrolled": true
   },
   "outputs": [],
   "source": [
    "with open('result_2.txt','wb') as fl:\n",
    "    pickle.dump(result_f2,fl)"
   ]
  },
  {
   "cell_type": "code",
   "execution_count": 28,
   "metadata": {
    "scrolled": true
   },
   "outputs": [],
   "source": [
    "with open('result_non.txt','wb') as fl:\n",
    "    pickle.dump(result_non,fl)"
   ]
  },
  {
   "cell_type": "code",
   "execution_count": 2,
   "metadata": {
    "collapsed": true
   },
   "outputs": [],
   "source": [
    "with open('result_non.txt','rb') as fl:\n",
    "    xx = pickle.load(fl)"
   ]
  },
  {
   "cell_type": "code",
   "execution_count": 3,
   "metadata": {},
   "outputs": [
    {
     "data": {
      "text/plain": [
       "array([['0.1', '0.0010030090270812437', 'poly', '1', '0.816091954023'],\n",
       "       ['0.1', '0.0010030090270812437', 'sigmoid', '1', '0.810344827586'],\n",
       "       ['0.1', '0.0010030090270812437', 'rbf', '1', '0.454022988506'],\n",
       "       ['0.1', '0.000111744328975', 'poly', '1', '0.465517241379'],\n",
       "       ['0.1', '0.000111744328975', 'sigmoid', '1', '0.454022988506'],\n",
       "       ['0.1', '0.000111744328975', 'rbf', '1', '0.477011494253'],\n",
       "       ['0.1', '0.1', 'poly', '1', '0.793103448276'],\n",
       "       ['0.1', '0.1', 'sigmoid', '1', '0.683908045977'],\n",
       "       ['0.1', '0.1', 'rbf', '1', '0.454022988506'],\n",
       "       ['0.1', '1.0', 'poly', '1', '0.793103448276'],\n",
       "       ['0.1', '1.0', 'sigmoid', '1', '0.454022988506'],\n",
       "       ['0.1', '1.0', 'rbf', '1', '0.454022988506'],\n",
       "       ['0.8', '0.0010030090270812437', 'poly', '1', '0.804597701149'],\n",
       "       ['0.8', '0.0010030090270812437', 'sigmoid', '1', '0.770114942529'],\n",
       "       ['0.8', '0.0010030090270812437', 'rbf', '1', '0.471264367816'],\n",
       "       ['0.8', '0.000111744328975', 'poly', '1', '0.82183908046'],\n",
       "       ['0.8', '0.000111744328975', 'sigmoid', '1', '0.833333333333'],\n",
       "       ['0.8', '0.000111744328975', 'rbf', '1', '0.764367816092'],\n",
       "       ['0.8', '0.1', 'poly', '1', '0.793103448276'],\n",
       "       ['0.8', '0.1', 'sigmoid', '1', '0.597701149425'],\n",
       "       ['0.8', '0.1', 'rbf', '1', '0.454022988506'],\n",
       "       ['0.8', '1.0', 'poly', '1', '0.793103448276'],\n",
       "       ['0.8', '1.0', 'sigmoid', '1', '0.48275862069'],\n",
       "       ['0.8', '1.0', 'rbf', '1', '0.454022988506'],\n",
       "       ['0.9', '0.0010030090270812437', 'poly', '1', '0.804597701149'],\n",
       "       ['0.9', '0.0010030090270812437', 'sigmoid', '1', '0.787356321839'],\n",
       "       ['0.9', '0.0010030090270812437', 'rbf', '1', '0.51724137931'],\n",
       "       ['0.9', '0.000111744328975', 'poly', '1', '0.816091954023'],\n",
       "       ['0.9', '0.000111744328975', 'sigmoid', '1', '0.833333333333'],\n",
       "       ['0.9', '0.000111744328975', 'rbf', '1', '0.775862068966'],\n",
       "       ['0.9', '0.1', 'poly', '1', '0.793103448276'],\n",
       "       ['0.9', '0.1', 'sigmoid', '1', '0.591954022989'],\n",
       "       ['0.9', '0.1', 'rbf', '1', '0.454022988506'],\n",
       "       ['0.9', '1.0', 'poly', '1', '0.793103448276'],\n",
       "       ['0.9', '1.0', 'sigmoid', '1', '0.488505747126'],\n",
       "       ['0.9', '1.0', 'rbf', '1', '0.454022988506'],\n",
       "       ['1', '0.0010030090270812437', 'poly', '1', '0.798850574713'],\n",
       "       ['1', '0.0010030090270812437', 'sigmoid', '1', '0.781609195402'],\n",
       "       ['1', '0.0010030090270812437', 'rbf', '1', '0.64367816092'],\n",
       "       ['1', '0.000111744328975', 'poly', '1', '0.816091954023'],\n",
       "       ['1', '0.000111744328975', 'sigmoid', '1', '0.83908045977'],\n",
       "       ['1', '0.000111744328975', 'rbf', '1', '0.781609195402'],\n",
       "       ['1', '0.1', 'poly', '1', '0.793103448276'],\n",
       "       ['1', '0.1', 'sigmoid', '1', '0.597701149425'],\n",
       "       ['1', '0.1', 'rbf', '1', '0.454022988506'],\n",
       "       ['1', '1.0', 'poly', '1', '0.793103448276'],\n",
       "       ['1', '1.0', 'sigmoid', '1', '0.477011494253'],\n",
       "       ['1', '1.0', 'rbf', '1', '0.454022988506'],\n",
       "       ['1.1', '0.0010030090270812437', 'poly', '1', '0.798850574713'],\n",
       "       ['1.1', '0.0010030090270812437', 'sigmoid', '1', '0.764367816092'],\n",
       "       ['1.1', '0.0010030090270812437', 'rbf', '1', '0.666666666667'],\n",
       "       ['1.1', '0.000111744328975', 'poly', '1', '0.816091954023'],\n",
       "       ['1.1', '0.000111744328975', 'sigmoid', '1', '0.83908045977'],\n",
       "       ['1.1', '0.000111744328975', 'rbf', '1', '0.787356321839'],\n",
       "       ['1.1', '0.1', 'poly', '1', '0.793103448276'],\n",
       "       ['1.1', '0.1', 'sigmoid', '1', '0.597701149425'],\n",
       "       ['1.1', '0.1', 'rbf', '1', '0.454022988506'],\n",
       "       ['1.1', '1.0', 'poly', '1', '0.793103448276'],\n",
       "       ['1.1', '1.0', 'sigmoid', '1', '0.488505747126'],\n",
       "       ['1.1', '1.0', 'rbf', '1', '0.454022988506'],\n",
       "       ['1.3', '0.0010030090270812437', 'poly', '1', '0.798850574713'],\n",
       "       ['1.3', '0.0010030090270812437', 'sigmoid', '1', '0.770114942529'],\n",
       "       ['1.3', '0.0010030090270812437', 'rbf', '1', '0.666666666667'],\n",
       "       ['1.3', '0.000111744328975', 'poly', '1', '0.816091954023'],\n",
       "       ['1.3', '0.000111744328975', 'sigmoid', '1', '0.833333333333'],\n",
       "       ['1.3', '0.000111744328975', 'rbf', '1', '0.781609195402'],\n",
       "       ['1.3', '0.1', 'poly', '1', '0.793103448276'],\n",
       "       ['1.3', '0.1', 'sigmoid', '1', '0.603448275862'],\n",
       "       ['1.3', '0.1', 'rbf', '1', '0.454022988506'],\n",
       "       ['1.3', '1.0', 'poly', '1', '0.793103448276'],\n",
       "       ['1.3', '1.0', 'sigmoid', '1', '0.48275862069'],\n",
       "       ['1.3', '1.0', 'rbf', '1', '0.454022988506'],\n",
       "       ['10', '0.0010030090270812437', 'poly', '1', '0.793103448276'],\n",
       "       ['10', '0.0010030090270812437', 'sigmoid', '1', '0.706896551724'],\n",
       "       ['10', '0.0010030090270812437', 'rbf', '1', '0.666666666667'],\n",
       "       ['10', '0.000111744328975', 'poly', '1', '0.798850574713'],\n",
       "       ['10', '0.000111744328975', 'sigmoid', '1', '0.712643678161'],\n",
       "       ['10', '0.000111744328975', 'rbf', '1', '0.793103448276'],\n",
       "       ['10', '0.1', 'poly', '1', '0.793103448276'],\n",
       "       ['10', '0.1', 'sigmoid', '1', '0.591954022989'],\n",
       "       ['10', '0.1', 'rbf', '1', '0.454022988506'],\n",
       "       ['10', '1.0', 'poly', '1', '0.793103448276'],\n",
       "       ['10', '1.0', 'sigmoid', '1', '0.568965517241'],\n",
       "       ['10', '1.0', 'rbf', '1', '0.454022988506'],\n",
       "       ['0.1', '0.0010030090270812437', 'poly', '3', '0.695402298851'],\n",
       "       ['0.1', '0.0010030090270812437', 'sigmoid', '3', '0.810344827586'],\n",
       "       ['0.1', '0.0010030090270812437', 'rbf', '3', '0.454022988506'],\n",
       "       ['0.1', '0.000111744328975', 'poly', '3', '0.454022988506'],\n",
       "       ['0.1', '0.000111744328975', 'sigmoid', '3', '0.454022988506'],\n",
       "       ['0.1', '0.000111744328975', 'rbf', '3', '0.477011494253'],\n",
       "       ['0.1', '0.1', 'poly', '3', '0.551724137931'],\n",
       "       ['0.1', '0.1', 'sigmoid', '3', '0.683908045977'],\n",
       "       ['0.1', '0.1', 'rbf', '3', '0.454022988506'],\n",
       "       ['0.1', '1.0', 'poly', '3', '0.551724137931'],\n",
       "       ['0.1', '1.0', 'sigmoid', '3', '0.454022988506'],\n",
       "       ['0.1', '1.0', 'rbf', '3', '0.454022988506'],\n",
       "       ['0.8', '0.0010030090270812437', 'poly', '3', '0.580459770115'],\n",
       "       ['0.8', '0.0010030090270812437', 'sigmoid', '3', '0.770114942529'],\n",
       "       ['0.8', '0.0010030090270812437', 'rbf', '3', '0.471264367816'],\n",
       "       ['0.8', '0.000111744328975', 'poly', '3', '0.551724137931'],\n",
       "       ['0.8', '0.000111744328975', 'sigmoid', '3', '0.833333333333'],\n",
       "       ['0.8', '0.000111744328975', 'rbf', '3', '0.764367816092'],\n",
       "       ['0.8', '0.1', 'poly', '3', '0.551724137931'],\n",
       "       ['0.8', '0.1', 'sigmoid', '3', '0.597701149425'],\n",
       "       ['0.8', '0.1', 'rbf', '3', '0.454022988506'],\n",
       "       ['0.8', '1.0', 'poly', '3', '0.551724137931'],\n",
       "       ['0.8', '1.0', 'sigmoid', '3', '0.48275862069'],\n",
       "       ['0.8', '1.0', 'rbf', '3', '0.454022988506'],\n",
       "       ['0.9', '0.0010030090270812437', 'poly', '3', '0.574712643678'],\n",
       "       ['0.9', '0.0010030090270812437', 'sigmoid', '3', '0.787356321839'],\n",
       "       ['0.9', '0.0010030090270812437', 'rbf', '3', '0.51724137931'],\n",
       "       ['0.9', '0.000111744328975', 'poly', '3', '0.551724137931'],\n",
       "       ['0.9', '0.000111744328975', 'sigmoid', '3', '0.833333333333'],\n",
       "       ['0.9', '0.000111744328975', 'rbf', '3', '0.775862068966'],\n",
       "       ['0.9', '0.1', 'poly', '3', '0.551724137931'],\n",
       "       ['0.9', '0.1', 'sigmoid', '3', '0.591954022989'],\n",
       "       ['0.9', '0.1', 'rbf', '3', '0.454022988506'],\n",
       "       ['0.9', '1.0', 'poly', '3', '0.551724137931'],\n",
       "       ['0.9', '1.0', 'sigmoid', '3', '0.488505747126'],\n",
       "       ['0.9', '1.0', 'rbf', '3', '0.454022988506'],\n",
       "       ['1', '0.0010030090270812437', 'poly', '3', '0.574712643678'],\n",
       "       ['1', '0.0010030090270812437', 'sigmoid', '3', '0.781609195402'],\n",
       "       ['1', '0.0010030090270812437', 'rbf', '3', '0.64367816092'],\n",
       "       ['1', '0.000111744328975', 'poly', '3', '0.551724137931'],\n",
       "       ['1', '0.000111744328975', 'sigmoid', '3', '0.83908045977'],\n",
       "       ['1', '0.000111744328975', 'rbf', '3', '0.781609195402'],\n",
       "       ['1', '0.1', 'poly', '3', '0.551724137931'],\n",
       "       ['1', '0.1', 'sigmoid', '3', '0.597701149425'],\n",
       "       ['1', '0.1', 'rbf', '3', '0.454022988506'],\n",
       "       ['1', '1.0', 'poly', '3', '0.551724137931'],\n",
       "       ['1', '1.0', 'sigmoid', '3', '0.477011494253'],\n",
       "       ['1', '1.0', 'rbf', '3', '0.454022988506'],\n",
       "       ['1.1', '0.0010030090270812437', 'poly', '3', '0.574712643678'],\n",
       "       ['1.1', '0.0010030090270812437', 'sigmoid', '3', '0.764367816092'],\n",
       "       ['1.1', '0.0010030090270812437', 'rbf', '3', '0.666666666667'],\n",
       "       ['1.1', '0.000111744328975', 'poly', '3', '0.557471264368'],\n",
       "       ['1.1', '0.000111744328975', 'sigmoid', '3', '0.83908045977'],\n",
       "       ['1.1', '0.000111744328975', 'rbf', '3', '0.787356321839'],\n",
       "       ['1.1', '0.1', 'poly', '3', '0.551724137931'],\n",
       "       ['1.1', '0.1', 'sigmoid', '3', '0.597701149425'],\n",
       "       ['1.1', '0.1', 'rbf', '3', '0.454022988506'],\n",
       "       ['1.1', '1.0', 'poly', '3', '0.551724137931'],\n",
       "       ['1.1', '1.0', 'sigmoid', '3', '0.488505747126'],\n",
       "       ['1.1', '1.0', 'rbf', '3', '0.454022988506'],\n",
       "       ['1.3', '0.0010030090270812437', 'poly', '3', '0.574712643678'],\n",
       "       ['1.3', '0.0010030090270812437', 'sigmoid', '3', '0.770114942529'],\n",
       "       ['1.3', '0.0010030090270812437', 'rbf', '3', '0.666666666667'],\n",
       "       ['1.3', '0.000111744328975', 'poly', '3', '0.557471264368'],\n",
       "       ['1.3', '0.000111744328975', 'sigmoid', '3', '0.833333333333'],\n",
       "       ['1.3', '0.000111744328975', 'rbf', '3', '0.781609195402'],\n",
       "       ['1.3', '0.1', 'poly', '3', '0.551724137931'],\n",
       "       ['1.3', '0.1', 'sigmoid', '3', '0.603448275862'],\n",
       "       ['1.3', '0.1', 'rbf', '3', '0.454022988506'],\n",
       "       ['1.3', '1.0', 'poly', '3', '0.551724137931'],\n",
       "       ['1.3', '1.0', 'sigmoid', '3', '0.48275862069'],\n",
       "       ['1.3', '1.0', 'rbf', '3', '0.454022988506'],\n",
       "       ['10', '0.0010030090270812437', 'poly', '3', '0.551724137931'],\n",
       "       ['10', '0.0010030090270812437', 'sigmoid', '3', '0.706896551724'],\n",
       "       ['10', '0.0010030090270812437', 'rbf', '3', '0.666666666667'],\n",
       "       ['10', '0.000111744328975', 'poly', '3', '0.586206896552'],\n",
       "       ['10', '0.000111744328975', 'sigmoid', '3', '0.712643678161'],\n",
       "       ['10', '0.000111744328975', 'rbf', '3', '0.793103448276'],\n",
       "       ['10', '0.1', 'poly', '3', '0.551724137931'],\n",
       "       ['10', '0.1', 'sigmoid', '3', '0.591954022989'],\n",
       "       ['10', '0.1', 'rbf', '3', '0.454022988506'],\n",
       "       ['10', '1.0', 'poly', '3', '0.551724137931'],\n",
       "       ['10', '1.0', 'sigmoid', '3', '0.568965517241'],\n",
       "       ['10', '1.0', 'rbf', '3', '0.454022988506']],\n",
       "      dtype='<U32')"
      ]
     },
     "execution_count": 3,
     "metadata": {},
     "output_type": "execute_result"
    }
   ],
   "source": [
    "xx"
   ]
  },
  {
   "cell_type": "code",
   "execution_count": null,
   "metadata": {
    "collapsed": true
   },
   "outputs": [],
   "source": []
  }
 ],
 "metadata": {
  "kernelspec": {
   "display_name": "Python 2",
   "language": "python",
   "name": "python2"
  },
  "language_info": {
   "codemirror_mode": {
    "name": "ipython",
    "version": 2
   },
   "file_extension": ".py",
   "mimetype": "text/x-python",
   "name": "python",
   "nbconvert_exporter": "python",
   "pygments_lexer": "ipython2",
   "version": "2.7.16"
  }
 },
 "nbformat": 4,
 "nbformat_minor": 2
}
