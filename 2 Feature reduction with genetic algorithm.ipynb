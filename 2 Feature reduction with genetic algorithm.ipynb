{
 "cells": [
  {
   "cell_type": "markdown",
   "metadata": {},
   "source": [
    "### How genetic algorithm will work"
   ]
  },
  {
   "cell_type": "markdown",
   "metadata": {},
   "source": [
    "<center><img src=\"Genetic.jpg\" ></center>"
   ]
  },
  {
   "cell_type": "markdown",
   "metadata": {},
   "source": [
    "import neccessary libarary"
   ]
  },
  {
   "cell_type": "code",
   "execution_count": 1,
   "metadata": {},
   "outputs": [],
   "source": [
    "import pandas as pd\n",
    "import numpy as np\n",
    "from copy import deepcopy\n",
    "from sklearn.svm import SVC\n",
    "from sklearn.metrics import accuracy_score\n",
    "import gc\n",
    "from sklearn.model_selection import train_test_split\n",
    "from numpy.random import choice\n",
    "from matplotlib import pyplot as plt"
   ]
  },
  {
   "cell_type": "markdown",
   "metadata": {},
   "source": [
    "plot will be shown inside notebook"
   ]
  },
  {
   "cell_type": "code",
   "execution_count": 2,
   "metadata": {
    "collapsed": true
   },
   "outputs": [],
   "source": [
    "%matplotlib inline"
   ]
  },
  {
   "cell_type": "markdown",
   "metadata": {},
   "source": [
    "loading the dataset"
   ]
  },
  {
   "cell_type": "code",
   "execution_count": 3,
   "metadata": {
    "collapsed": true
   },
   "outputs": [],
   "source": [
    "dataset = pd.DataFrame.from_csv('featured_data.csv')"
   ]
  },
  {
   "cell_type": "code",
   "execution_count": 4,
   "metadata": {
    "collapsed": true
   },
   "outputs": [],
   "source": [
    "train , test = train_test_split(dataset,train_size = 0.65)\n",
    "validation , test = train_test_split(test,test_size = 0.5)"
   ]
  },
  {
   "cell_type": "code",
   "execution_count": 5,
   "metadata": {},
   "outputs": [
    {
     "data": {
      "text/plain": [
       "(648, 17792)"
      ]
     },
     "execution_count": 5,
     "metadata": {},
     "output_type": "execute_result"
    }
   ],
   "source": [
    "train.shape"
   ]
  },
  {
   "cell_type": "code",
   "execution_count": 6,
   "metadata": {},
   "outputs": [
    {
     "data": {
      "text/plain": [
       "(175, 17792)"
      ]
     },
     "execution_count": 6,
     "metadata": {},
     "output_type": "execute_result"
    }
   ],
   "source": [
    "test.shape"
   ]
  },
  {
   "cell_type": "code",
   "execution_count": 7,
   "metadata": {},
   "outputs": [
    {
     "data": {
      "text/plain": [
       "(174, 17792)"
      ]
     },
     "execution_count": 7,
     "metadata": {},
     "output_type": "execute_result"
    }
   ],
   "source": [
    "validation.shape"
   ]
  },
  {
   "cell_type": "markdown",
   "metadata": {},
   "source": [
    "genetic algoritm implementation"
   ]
  },
  {
   "cell_type": "code",
   "execution_count": 8,
   "metadata": {},
   "outputs": [],
   "source": [
    "class genetic:\n",
    "    def __init__(self,Data,\n",
    "                Population = 20,\n",
    "                Generation = 10,\n",
    "                Penalty_rate = 1.0,\n",
    "                Mutation_rate_sample = 0.8,\n",
    "                Mutation_rate_chromosome = 0.8,\n",
    "                Crossover_rate = 0.7,\n",
    "                column_label = 'class',\n",
    "                crossover_type = 'single-point',\n",
    "                Score_threshhold = 80.0,\n",
    "                Mutation_decrease = True ):\n",
    "        \"\"\"\n",
    "        Initializing The Parameter Of Algorithm\n",
    "            Args:\n",
    "                Data : \"Pandas DataFrame\" Input dataset\n",
    "                Label : \"Pandas DataFrame\" True Label of dataset\n",
    "                Population : \"Integer\" number of the individual of society\n",
    "                Generation : \"Integer\" Maximum number of generation\n",
    "                Mutation_rate_sample : \"Float\" Initial Mutation Rate for sample\n",
    "                                        it will be different for different\n",
    "                                        generation\n",
    "                Mutation_rate_chromosome : \"Float\" Initial Mutation Rate for gene\n",
    "                                        it will be different for different\n",
    "                                        generation\n",
    "                Crossover_rate : \"Float\" Rate of applying cross over in population\n",
    "                \n",
    "                Penalty_rate : \"Float\" *Sparcity coeficient , penalty in compute fittnes\n",
    "                                wich indicate how much we care about sparcity\n",
    "                                of feature\n",
    "                crossover_type : \"String \"How the crossover would effect our Masks\n",
    "                                \"single-point\",\"two-point\",\"uniform\"\n",
    "                                \n",
    "                Score_threshhold : \"Float \"When fitness reach this value will break the training\n",
    "                \n",
    "                Mutation_decrease : \"Boolean \"is Mutation rate Decrease over the Generation\n",
    "        \n",
    "\n",
    "        \"\"\"\n",
    "        self.Data = Data;\n",
    "        self.Data_train , self.Data_test = train_test_split(self.Data,test_size = 0.22);\n",
    "        \n",
    "        self.Label_train = self.Data_train.ix[:,self.Data.columns == column_label];\n",
    "        self.Label_test  = self.Data_test.ix[:,self.Data.columns == column_label];\n",
    "        \n",
    "        self.Data_train = self.Data_train.ix[:,self.Data.columns != column_label];\n",
    "        self.Data_test = self.Data_test.ix[:,self.Data.columns != column_label];\n",
    "        \n",
    "        self.chromosome_shape = self.Data_train.shape[1];\n",
    "        self.Population = Population;\n",
    "        self.Generation = Generation;\n",
    "        self.current_generation = 0;\n",
    "        self.Mutation_rate_sample = Mutation_rate_sample;\n",
    "        self.Mutation_rate_chromosome = Mutation_rate_chromosome;\n",
    "        self.penalty_rate = Penalty_rate\n",
    "        \n",
    "        self.Crossover_rate = Crossover_rate;\n",
    "        self.crossover_type = crossover_type;\n",
    "        self.Score_threshhold = Score_threshhold\n",
    "        self.Bank = np.zeros((0,2))\n",
    "        self.Mutation_decrease = Mutation_decrease\n",
    "        \n",
    "        \n",
    "    def Generate(self):\n",
    "        \"\"\"Population generation function\n",
    "        # Approach :\n",
    "                # create random mask in shape of the input feature space we name it chromosome\n",
    "                # for each random mask compute the score using Fittness function\n",
    "                # self.society : create empty array with 2 column < chromosome , score > \n",
    "                # add <chromosome,score> to self.society\n",
    "        \n",
    "        \"\"\"\n",
    "        society = np.array([np.random.randint(0,high=2,size=self.chromosome_shape) for i in range(self.Population)])\n",
    "        score = []\n",
    "        for i in society :\n",
    "            score.append(self.Fittness(i))\n",
    "        self.society = np.zeros((0,2))\n",
    "        for i in range(len(society)):\n",
    "            self.society = np.vstack((self.society,(society[i],score[i])))\n",
    "        self.Fittness_to_probability()\n",
    "        \n",
    "\n",
    "    \n",
    "    def Mutate(self,chromosome):\n",
    "        \"\"\"Genetic operator : Mutation function\n",
    "        will Mutate the chromosome given the Mutation rate\n",
    "        # Approach :\n",
    "                # check to select Mutation Rate\n",
    "                # Compute How much of Mask cell should Mutate\n",
    "                # Randomly generete index of cell to Mutate\n",
    "                # Make copy of them\n",
    "                # Mutate them\n",
    "                # Compute score for new chromosome with Fittness function\n",
    "                # add Mutated chromosome to society\n",
    "        \"\"\"\n",
    "        \n",
    "        if(self.Mutation_decrease):\n",
    "            Mutation_rate_chromosome = self.Mutation_rate_chromosome * \\\n",
    "                                ((self.Generation - self.current_generation -1 )/self.Generation)\n",
    "        else:\n",
    "            Mutation_rate_chromosome = self.Mutation_rate_chromosome\n",
    "\n",
    "        Mutation_value_chromosome = Mutation_rate_chromosome * self.chromosome_shape\n",
    "        \n",
    "        Mutation_mask = np.ones(int(Mutation_value_chromosome),dtype='int')\n",
    "        \n",
    "        Mutation_index_chromosome = np.random.randint(0,high=self.chromosome_shape,\n",
    "                                                size=int(Mutation_value_chromosome))\n",
    "        new_chromosome = np.copy(chromosome)\n",
    "        new_chromosome[Mutation_index_chromosome] = np.logical_xor(new_chromosome[Mutation_index_chromosome],\n",
    "                                                                                 Mutation_mask)\n",
    "        new_score = self.Fittness(new_chromosome)\n",
    "        self.society = np.vstack((self.society,(new_chromosome,new_score)))\n",
    "        \n",
    "    def Fittness(self,chromosome):\n",
    "        \"\"\"Fitness function with predefined penalty\n",
    "        Compute score of the given chromosme with respect to number of feature left and\n",
    "        penalty of them\n",
    "        # Approach :\n",
    "                # Find the index of columns wich is 1 in the chromosome\n",
    "                # Construct New Train and Test with given feature\n",
    "                # Train SVM based on those feature\n",
    "                # make prediction on test Data set\n",
    "                # Evaluate that prediction\n",
    "                # Compute the penalty wich is : sum of the feature we selected\n",
    "                # Compute the score : accuracy - penalty * #future\n",
    "                # Delet template variable for efficiency Use of memory\n",
    "        \"\"\"\n",
    "        \n",
    "        selected_feature = np.nonzero(chromosome);\n",
    "        New_data_train = self.Data_train.iloc[:,selected_feature[0]]\n",
    "        New_data_test = self.Data_test.iloc[:,selected_feature[0]]\n",
    "        Model = SVC()\n",
    "        \n",
    "        Model.fit(New_data_train,self.Label_train.values.ravel());\n",
    "        Prediction = Model.predict(New_data_test)\n",
    "        \n",
    "        accuracy = accuracy_score(Prediction,self.Label_test.values.ravel())\n",
    "        penalty = ( np.sum(chromosome) / self.chromosome_shape )\n",
    "        \n",
    "        score = accuracy - self.penalty_rate * penalty\n",
    "        \n",
    "        del New_data_train,New_data_test,Model,Prediction,selected_feature\n",
    "        \n",
    "        if(score > 0):\n",
    "            return score\n",
    "        else :\n",
    "            return 0\n",
    "\n",
    "    \n",
    "    def SVM_score(self,chromosome):\n",
    "        \"\"\"Just for compute accuracy of final Model\n",
    "        \"\"\"\n",
    "        selected_feature = np.nonzero(chromosome);\n",
    "        New_data_train = self.Data_train.iloc[:,selected_feature[0]]\n",
    "        New_data_test = self.Data_test.iloc[:,selected_feature[0]]\n",
    "        Model = SVC()\n",
    "        \n",
    "        Model.fit(New_data_train,self.Label_train.values.ravel());\n",
    "        Prediction = Model.predict(New_data_test)\n",
    "        accuracy = accuracy_score(Prediction,self.Label_test.values.ravel())\n",
    "        return accuracy\n",
    "    \n",
    "    def Crossover(self,chromosome1,chromosome2):\n",
    "        \"\"\"Genetic operator : Crossover of two chromosome\n",
    "        # Approach :\n",
    "                # check type Of Operation\n",
    "                # Apply the operation on chromosoms\n",
    "                \n",
    "        \"\"\"\n",
    "        if(self.crossover_type == 'single-point'):\n",
    "            cross_point = int(self.chromosome_shape / 2)\n",
    "            \n",
    "            child1_chromosome = np.hstack((chromosome1[:cross_point],\n",
    "                                chromosome2[cross_point:]))\n",
    "            \n",
    "            child2_chromosome = np.hstack((chromosome2[:cross_point],\n",
    "                                chromosome1[cross_point:]))\n",
    "            \n",
    "            child1_score = self.Fittness(child1_chromosome)\n",
    "            child2_score = self.Fittness(child2_chromosome)\n",
    "            self.society = np.vstack((self.society,(child1_chromosome,child1_score)))\n",
    "            self.society = np.vstack((self.society,(child2_chromosome,child2_score)))\n",
    "            return\n",
    "        \n",
    "        elif(self.crossover_type == 'two-point'):\n",
    "            cross_point1 = self.chromosome_shape / 3\n",
    "            cross_point2 = cross_point1 * 2\n",
    "            child1 = np.hstack((chromosome1[:cross_point1],\n",
    "                                chromosome2[cross_point1:cross_point2],\n",
    "                                chromosome1[cross_point2:]))\n",
    "            child2 = np.hstack((chromosome2[:cross_point1],\n",
    "                                chromosome1[cross_point1:cross_point2],\n",
    "                                chromosome2[cross_point2:]))\n",
    "            \n",
    "            child1_score = self.Fittness(child1_chromosome)\n",
    "            child2_score = self.Fittness(child2_chromosome)\n",
    "            self.society = np.vstack((self.society,(child1_chromosome,child1_score)))\n",
    "            self.society = np.vstack((self.society,(child2_chromosome,child2_score)))\n",
    "            return\n",
    "        \n",
    "        elif(self.crossover_type == 'uniform'):\n",
    "            mask1 = np.random.randint(0,high=2,size=self.chromosome_shape)\n",
    "            mask2 = np.logical_not(mask1)\n",
    "            Embryo1 = np.logical_and(mask1,chromosome1)\n",
    "            Embryo2 = np.logical_and(mask1,chromosome2)\n",
    "            Embryo3 = np.logical_and(mask2,chromosome1)\n",
    "            Embryo4 = np.logical_and(mask2,chromosome2)\n",
    "            \n",
    "            child1_score = self.Fittness(child1_chromosome)\n",
    "            child2_score = self.Fittness(child2_chromosome)\n",
    "            self.society = np.vstack((self.society,(child1_chromosome,child1_score)))\n",
    "            self.society = np.vstack((self.society,(child2_chromosome,child2_score)))\n",
    "            return\n",
    "        \n",
    "        raise ValueError('could not find %c' % (self.crossover_type))\n",
    "    \n",
    "    def Fittness_to_probability(self,):\n",
    "        \"\"\"Make Probability of existing score\n",
    "        \"\"\"\n",
    "        self.probability = []\n",
    "        normalizer = self.society[:,1].sum()\n",
    "        for i in range(self.society.shape[0]):\n",
    "            self.probability.append(np.float(self.society[i,1])/ normalizer)\n",
    "        \n",
    "    def train(self,):\n",
    "        \"\"\"Optimize Feature for SVM\n",
    "        # Approach :\n",
    "                # compute number of sample wich will attend in cross over operation\n",
    "                # for each generation do this :\n",
    "                # call garbage collector for memory efficiency\n",
    "                # do the crossover on randomly selected sample with respect\n",
    "                    to its probability base on crossover_value \n",
    "                # renew the probability vector\n",
    "                # do the Mutation on randomly selected sample with respect\n",
    "                    to its probability base on crossover_value \n",
    "                # Update the society\n",
    "                # check whether the threshhold has met\n",
    "                # check whether the Best score is diffrent in last three generation\n",
    "                    if not :\n",
    "                        save the best chromosome on chromosome Bank\n",
    "                        create new generation of chromosome\n",
    "                    \n",
    "        \"\"\"\n",
    "        # producing the first generation\n",
    "        Crossover_value = int(self.Crossover_rate * self.society.shape[0])\n",
    "        Generation_Score = np.zeros((self.Generation,))\n",
    "        \n",
    "        for self.current_generation in range(self.Generation):\n",
    "            gc.collect()\n",
    "            print(\"Training Generation {} is started\".format(self.current_generation))\n",
    "            for icross in range(Crossover_value):\n",
    "                chosen_ones = choice(self.society[:,0],2,self.probability)\n",
    "                self.Crossover(chosen_ones[0],chosen_ones[1])\n",
    "            self.Fittness_to_probability()\n",
    "            \n",
    "            Mutation_value_sample = int(self.Mutation_rate_sample * self.society.shape[0])\n",
    "            for imut in range(Mutation_value_sample):\n",
    "                chosen_one = choice(self.society[:,0],1,self.probability)\n",
    "                self.Mutate(chosen_one[0])\n",
    "\n",
    "            self.society = self.society[(-self.society[:,1]).argsort()]\n",
    "            self.society = self.society[:20,:]\n",
    "            \n",
    "            if(self.society[:,1].max() > self.Score_threshhold):\n",
    "                print(\"Score criterion Has met , process terminated \")\n",
    "                print('Final Score is {}'.format(self.society[:,1].max()))\n",
    "                print(\"Accuracy of model on test data is : \",self.SVM_score(self.society[0,0]))\n",
    "                return(self.society[0,0])\n",
    "            \n",
    "            Generation_Score[self.current_generation] = self.society[:,1].max()\n",
    "            if(Generation_Score[self.current_generation-3:self.current_generation].sum() / 3 ==\\\n",
    "                                                       Generation_Score[self.current_generation]):\n",
    "                self.Bank = np.vstack((self.Bank,self.society[0,:]))\n",
    "                self.Generate()\n",
    "            \n",
    "            self.Fittness_to_probability()\n",
    "            print('Training Generation {} is Done'.format(self.current_generation) )\n",
    "            print('Maximum Score Untill Now is {} '.format(self.society[:,1].max()))\n",
    "            print(\"Best chromosome Untill Now : \")\n",
    "            img = np.hstack((self.society[0,0],0))\n",
    "            img = img.reshape(128,139)\n",
    "            print(plt.imshow(img))\n",
    "        \n",
    "        self.Bank = np.vstack((self.Bank,self.society[0,:]))\n",
    "        self.Bank = self.Bank[(-self.Bank[:,1]).argsort()]\n",
    "        print(\"Maximum Generation Has met , process terminated \")\n",
    "        print(\"Accuracy of model on test data is : \",self.SVM_score(self.Bank[0,0]))\n",
    "        \n",
    "        return(self.Bank[0,0])\n",
    "            "
   ]
  },
  {
   "cell_type": "markdown",
   "metadata": {},
   "source": [
    "plot features before selection"
   ]
  },
  {
   "cell_type": "code",
   "execution_count": 9,
   "metadata": {},
   "outputs": [
    {
     "data": {
      "image/png": "[encoded data removed]",
      "text/plain": [
       "<matplotlib.figure.Figure at 0x7f44efe07438>"
      ]
     },
     "metadata": {},
     "output_type": "display_data"
    }
   ],
   "source": [
    "img = np.ones((128,139))\n",
    "plt.imshow(img)\n",
    "plt.show()"
   ]
  },
  {
   "cell_type": "markdown",
   "metadata": {},
   "source": [
    "### start feature selection process"
   ]
  },
  {
   "cell_type": "code",
   "execution_count": 10,
   "metadata": {},
   "outputs": [],
   "source": [
    "gene = genetic(train,Generation=20,Penalty_rate=1.0)"
   ]
  },
  {
   "cell_type": "code",
   "execution_count": 11,
   "metadata": {
    "scrolled": true
   },
   "outputs": [],
   "source": [
    "gene.Generate()"
   ]
  },
  {
   "cell_type": "code",
   "execution_count": 12,
   "metadata": {
    "scrolled": false
   },
   "outputs": [
    {
     "name": "stdout",
     "output_type": "stream",
     "text": [
      "Training Generation 0 is started\n",
      "Training Generation 0 is Done\n",
      "Maximum Score Untill Now is 0.3583693019924822 \n",
      "Best chromosome Untill Now : \n",
      "AxesImage(54,36;334.8x217.44)\n",
      "Training Generation 1 is started\n",
      "Training Generation 1 is Done\n",
      "Maximum Score Untill Now is 0.36219145926301227 \n",
      "Best chromosome Untill Now : \n",
      "AxesImage(54,36;334.8x217.44)\n",
      "Training Generation 2 is started\n",
      "Training Generation 2 is Done\n",
      "Maximum Score Untill Now is 0.36219145926301227 \n",
      "Best chromosome Untill Now : \n",
      "AxesImage(54,36;334.8x217.44)\n",
      "Training Generation 3 is started\n",
      "Training Generation 3 is Done\n",
      "Maximum Score Untill Now is 0.36219145926301227 \n",
      "Best chromosome Untill Now : \n",
      "AxesImage(54,36;334.8x217.44)\n",
      "Training Generation 4 is started\n",
      "Training Generation 4 is Done\n",
      "Maximum Score Untill Now is 0.3427862677483272 \n",
      "Best chromosome Untill Now : \n",
      "AxesImage(54,36;334.8x217.44)\n",
      "Training Generation 5 is started\n",
      "Training Generation 5 is Done\n",
      "Maximum Score Untill Now is 0.3538494555862888 \n",
      "Best chromosome Untill Now : \n",
      "AxesImage(54,36;334.8x217.44)\n",
      "Training Generation 6 is started\n",
      "Training Generation 6 is Done\n",
      "Maximum Score Untill Now is 0.3538494555862888 \n",
      "Best chromosome Untill Now : \n",
      "AxesImage(54,36;334.8x217.44)\n",
      "Training Generation 7 is started\n",
      "Training Generation 7 is Done\n",
      "Maximum Score Untill Now is 0.3560415751973281 \n",
      "Best chromosome Untill Now : \n",
      "AxesImage(54,36;334.8x217.44)\n",
      "Training Generation 8 is started\n",
      "Training Generation 8 is Done\n",
      "Maximum Score Untill Now is 0.35915621672465015 \n",
      "Best chromosome Untill Now : \n",
      "AxesImage(54,36;334.8x217.44)\n",
      "Training Generation 9 is started\n",
      "Training Generation 9 is Done\n",
      "Maximum Score Untill Now is 0.365418517180644 \n",
      "Best chromosome Untill Now : \n",
      "AxesImage(54,36;334.8x217.44)\n",
      "Training Generation 10 is started\n",
      "Training Generation 10 is Done\n",
      "Maximum Score Untill Now is 0.365418517180644 \n",
      "Best chromosome Untill Now : \n",
      "AxesImage(54,36;334.8x217.44)\n",
      "Training Generation 11 is started\n",
      "Training Generation 11 is Done\n",
      "Maximum Score Untill Now is 0.3710161459023243 \n",
      "Best chromosome Untill Now : \n",
      "AxesImage(54,36;334.8x217.44)\n",
      "Training Generation 12 is started\n",
      "Training Generation 12 is Done\n",
      "Maximum Score Untill Now is 0.3780555344829416 \n",
      "Best chromosome Untill Now : \n",
      "AxesImage(54,36;334.8x217.44)\n",
      "Training Generation 13 is started\n",
      "Training Generation 13 is Done\n",
      "Maximum Score Untill Now is 0.3780555344829416 \n",
      "Best chromosome Untill Now : \n",
      "AxesImage(54,36;334.8x217.44)\n",
      "Training Generation 14 is started\n",
      "Training Generation 14 is Done\n",
      "Maximum Score Untill Now is 0.3780555344829416 \n",
      "Best chromosome Untill Now : \n",
      "AxesImage(54,36;334.8x217.44)\n",
      "Training Generation 15 is started\n",
      "Training Generation 15 is Done\n",
      "Maximum Score Untill Now is 0.38780274303853646 \n",
      "Best chromosome Untill Now : \n",
      "AxesImage(54,36;334.8x217.44)\n",
      "Training Generation 16 is started\n",
      "Training Generation 16 is Done\n",
      "Maximum Score Untill Now is 0.38780274303853646 \n",
      "Best chromosome Untill Now : \n",
      "AxesImage(54,36;334.8x217.44)\n",
      "Training Generation 17 is started\n",
      "Training Generation 17 is Done\n",
      "Maximum Score Untill Now is 0.38780274303853646 \n",
      "Best chromosome Untill Now : \n",
      "AxesImage(54,36;334.8x217.44)\n",
      "Training Generation 18 is started\n",
      "Training Generation 18 is Done\n",
      "Maximum Score Untill Now is 0.3371654482328419 \n",
      "Best chromosome Untill Now : \n",
      "AxesImage(54,36;334.8x217.44)\n",
      "Training Generation 19 is started\n",
      "Training Generation 19 is Done\n",
      "Maximum Score Untill Now is 0.35848171838279197 \n",
      "Best chromosome Untill Now : \n",
      "AxesImage(54,36;334.8x217.44)\n",
      "Maximum Generation Has met , process terminated \n",
      "Accuracy of model on test data is :  0.888111888112\n"
     ]
    },
    {
     "data": {
      "image/png": "[encoded data removed]",
      "text/plain": [
       "<matplotlib.figure.Figure at 0x7f44efe58978>"
      ]
     },
     "metadata": {},
     "output_type": "display_data"
    }
   ],
   "source": [
    "reduced_feature = gene.train()"
   ]
  },
  {
   "cell_type": "markdown",
   "metadata": {},
   "source": [
    "we save selected feature as mask for future use (black indicates selected feature) "
   ]
  },
  {
   "cell_type": "code",
   "execution_count": 13,
   "metadata": {
    "collapsed": true
   },
   "outputs": [],
   "source": [
    "np.savetxt('feature_mask2.txt',reduced_feature)"
   ]
  },
  {
   "cell_type": "markdown",
   "metadata": {},
   "source": [
    "final feature count"
   ]
  },
  {
   "cell_type": "code",
   "execution_count": 14,
   "metadata": {},
   "outputs": [
    {
     "data": {
      "text/plain": [
       "8925"
      ]
     },
     "execution_count": 14,
     "metadata": {},
     "output_type": "execute_result"
    }
   ],
   "source": [
    "gene.society[0,0].sum()"
   ]
  },
  {
   "cell_type": "markdown",
   "metadata": {},
   "source": [
    "save feature which has not been used in training process"
   ]
  },
  {
   "cell_type": "code",
   "execution_count": 16,
   "metadata": {
    "collapsed": true
   },
   "outputs": [],
   "source": [
    "pd.DataFrame.to_pickle(test,'test.pkl')"
   ]
  },
  {
   "cell_type": "code",
   "execution_count": 17,
   "metadata": {
    "collapsed": true
   },
   "outputs": [],
   "source": [
    "pd.DataFrame.to_pickle(validation,'validation.pkl')"
   ]
  }
 ],
 "metadata": {
  "kernelspec": {
   "display_name": "Python 2",
   "language": "python",
   "name": "python2"
  },
  "language_info": {
   "codemirror_mode": {
    "name": "ipython",
    "version": 2
   },
   "file_extension": ".py",
   "mimetype": "text/x-python",
   "name": "python",
   "nbconvert_exporter": "python",
   "pygments_lexer": "ipython2",
   "version": "2.7.16"
  }
 },
 "nbformat": 4,
 "nbformat_minor": 2
}
